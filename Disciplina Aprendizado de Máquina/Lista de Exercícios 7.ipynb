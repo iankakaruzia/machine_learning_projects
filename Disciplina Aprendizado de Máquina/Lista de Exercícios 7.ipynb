{
 "cells": [
  {
   "cell_type": "markdown",
   "metadata": {},
   "source": [
    "# Lista de Exercícios 7\n",
    "Ianka Karúzia Rabelo de Oliveira - 365560"
   ]
  },
  {
   "cell_type": "code",
   "execution_count": 1,
   "metadata": {
    "collapsed": true
   },
   "outputs": [],
   "source": [
    "%matplotlib inline\n",
    "import matplotlib.pyplot as plt\n",
    "import numpy as np\n",
    "from sklearn import datasets, svm, naive_bayes, metrics\n",
    "from sklearn.model_selection import KFold\n",
    "from sklearn.preprocessing import StandardScaler, MinMaxScaler"
   ]
  },
  {
   "cell_type": "code",
   "execution_count": 2,
   "metadata": {
    "collapsed": true
   },
   "outputs": [],
   "source": [
    "from sklearn.linear_model import LinearRegression, LogisticRegression, BayesianRidge, SGDRegressor"
   ]
  },
  {
   "cell_type": "code",
   "execution_count": 3,
   "metadata": {
    "collapsed": true
   },
   "outputs": [],
   "source": [
    "from sklearn.neighbors import KNeighborsClassifier, KNeighborsRegressor"
   ]
  },
  {
   "cell_type": "markdown",
   "metadata": {},
   "source": [
    "## Regressão"
   ]
  },
  {
   "cell_type": "markdown",
   "metadata": {},
   "source": [
    "#### Importando o Dataset Boston House-Prices"
   ]
  },
  {
   "cell_type": "code",
   "execution_count": 4,
   "metadata": {
    "collapsed": true
   },
   "outputs": [],
   "source": [
    "X, y = datasets.load_boston(return_X_y=True)"
   ]
  },
  {
   "cell_type": "markdown",
   "metadata": {},
   "source": [
    "#### Stochastic Gradient Descent"
   ]
  },
  {
   "cell_type": "code",
   "execution_count": 5,
   "metadata": {},
   "outputs": [
    {
     "name": "stdout",
     "output_type": "stream",
     "text": [
      "RMSE:  6.17376269396\n",
      "MAE:  3.93422238758\n",
      "RMSE:  4.22446018828\n",
      "MAE:  3.26999462565\n",
      "RMSE:  4.75534151097\n",
      "MAE:  2.9338116142\n",
      "RMSE:  5.66217171471\n",
      "MAE:  3.6266307218\n",
      "RMSE:  4.01029912755\n",
      "MAE:  2.86968677278\n"
     ]
    }
   ],
   "source": [
    "sgd_rmse = list()\n",
    "sgd_mae = list()\n",
    "kfold = KFold(n_splits=5, shuffle=True, random_state=0)\n",
    "for train_index, test_index in kfold.split(X, y):\n",
    "    std_scale = StandardScaler().fit(X[train_index])\n",
    "    X_train_std = std_scale.transform(X[train_index])\n",
    "    X_test_std = std_scale.transform(X[test_index])\n",
    "    sgd_model = SGDRegressor()\n",
    "    sgd_model.fit(X_train_std, y[train_index])\n",
    "    y_pred = sgd_model.predict(X_test_std)\n",
    "    sgd_rmse.append(np.sqrt(metrics.mean_squared_error(y[test_index], y_pred)))\n",
    "    sgd_mae.append(metrics.mean_absolute_error(y[test_index], y_pred))\n",
    "    print('RMSE: ', np.sqrt(metrics.mean_squared_error(y[test_index], y_pred)))\n",
    "    print('MAE: ', metrics.mean_absolute_error(y[test_index], y_pred))"
   ]
  },
  {
   "cell_type": "code",
   "execution_count": 6,
   "metadata": {},
   "outputs": [
    {
     "name": "stdout",
     "output_type": "stream",
     "text": [
      "Média da Métrica RMSE:  4.96520704709\n",
      "Média da Métrica MAE:  3.3268692244\n"
     ]
    }
   ],
   "source": [
    "print('Média da Métrica RMSE: ', np.mean(sgd_rmse))\n",
    "print('Média da Métrica MAE: ', np.mean(sgd_mae))"
   ]
  },
  {
   "cell_type": "markdown",
   "metadata": {},
   "source": [
    "#### Linear Regression"
   ]
  },
  {
   "cell_type": "code",
   "execution_count": 7,
   "metadata": {},
   "outputs": [
    {
     "name": "stdout",
     "output_type": "stream",
     "text": [
      "RMSE:  5.78365878728\n",
      "MAE:  3.84281058945\n",
      "RMSE:  4.32137879547\n",
      "MAE:  3.39987630555\n",
      "RMSE:  4.60859679275\n",
      "MAE:  3.0760482019\n",
      "RMSE:  5.40719345685\n",
      "MAE:  3.64756956856\n",
      "RMSE:  4.07127819231\n",
      "MAE:  3.02996397027\n"
     ]
    }
   ],
   "source": [
    "lr_rmse = list()\n",
    "lr_mae = list()\n",
    "kfold = KFold(n_splits=5, shuffle=True, random_state=0)\n",
    "for train_index, test_index in kfold.split(X, y):\n",
    "    std_scale = StandardScaler().fit(X[train_index])\n",
    "    X_train_std = std_scale.transform(X[train_index])\n",
    "    X_test_std = std_scale.transform(X[test_index])\n",
    "    lr_model = LinearRegression(n_jobs=-1)\n",
    "    lr_model.fit(X_train_std, y[train_index])\n",
    "    y_pred = lr_model.predict(X_test_std)\n",
    "    lr_rmse.append(np.sqrt(metrics.mean_squared_error(y[test_index], y_pred)))\n",
    "    lr_mae.append(metrics.mean_absolute_error(y[test_index], y_pred))\n",
    "    print('RMSE: ', np.sqrt(metrics.mean_squared_error(y[test_index], y_pred)))\n",
    "    print('MAE: ', metrics.mean_absolute_error(y[test_index], y_pred))"
   ]
  },
  {
   "cell_type": "code",
   "execution_count": 8,
   "metadata": {},
   "outputs": [
    {
     "name": "stdout",
     "output_type": "stream",
     "text": [
      "Média da Métrica RMSE:  4.83842120493\n",
      "Média da Métrica MAE:  3.39925372715\n"
     ]
    }
   ],
   "source": [
    "print('Média da Métrica RMSE: ', np.mean(lr_rmse))\n",
    "print('Média da Métrica MAE: ', np.mean(lr_mae))"
   ]
  },
  {
   "cell_type": "markdown",
   "metadata": {},
   "source": [
    "#### KNN"
   ]
  },
  {
   "cell_type": "code",
   "execution_count": 9,
   "metadata": {},
   "outputs": [
    {
     "name": "stdout",
     "output_type": "stream",
     "text": [
      "RMSE:  5.97568012373\n",
      "MAE:  3.52235294118\n",
      "RMSE:  3.58692289318\n",
      "MAE:  2.49287128713\n",
      "RMSE:  3.80442889379\n",
      "MAE:  2.66534653465\n",
      "RMSE:  4.30325826359\n",
      "MAE:  2.81643564356\n",
      "RMSE:  4.71309110062\n",
      "MAE:  2.90178217822\n"
     ]
    }
   ],
   "source": [
    "knn_rmse = list()\n",
    "knn_mae = list()\n",
    "kfold = KFold(n_splits=5, shuffle=True, random_state=0)\n",
    "for train_index, test_index in kfold.split(X, y):\n",
    "    std_scale = StandardScaler().fit(X[train_index])\n",
    "    X_train_std = std_scale.transform(X[train_index])\n",
    "    X_test_std = std_scale.transform(X[test_index])\n",
    "    knn_model = KNeighborsRegressor(n_jobs=-1)\n",
    "    knn_model.fit(X_train_std, y[train_index])\n",
    "    y_pred = knn_model.predict(X_test_std)\n",
    "    knn_rmse.append(np.sqrt(metrics.mean_squared_error(y[test_index], y_pred)))\n",
    "    knn_mae.append(metrics.mean_absolute_error(y[test_index], y_pred))\n",
    "    print('RMSE: ', np.sqrt(metrics.mean_squared_error(y[test_index], y_pred)))\n",
    "    print('MAE: ', metrics.mean_absolute_error(y[test_index], y_pred))"
   ]
  },
  {
   "cell_type": "code",
   "execution_count": 10,
   "metadata": {},
   "outputs": [
    {
     "name": "stdout",
     "output_type": "stream",
     "text": [
      "Média da Métrica RMSE:  4.47667625498\n",
      "Média da Métrica MAE:  2.87975771695\n"
     ]
    }
   ],
   "source": [
    "print('Média da Métrica RMSE: ', np.mean(knn_rmse))\n",
    "print('Média da Métrica MAE: ', np.mean(knn_mae))"
   ]
  },
  {
   "cell_type": "markdown",
   "metadata": {},
   "source": [
    "#### Naive Bayes"
   ]
  },
  {
   "cell_type": "code",
   "execution_count": 11,
   "metadata": {},
   "outputs": [
    {
     "name": "stdout",
     "output_type": "stream",
     "text": [
      "RMSE:  5.82631358422\n",
      "MAE:  3.85072354439\n",
      "RMSE:  4.27615048154\n",
      "MAE:  3.35807441302\n",
      "RMSE:  4.59267662417\n",
      "MAE:  3.03470742468\n",
      "RMSE:  5.43226738887\n",
      "MAE:  3.62020970054\n",
      "RMSE:  4.05044458473\n",
      "MAE:  2.99274772868\n"
     ]
    }
   ],
   "source": [
    "nb_rmse = list()\n",
    "nb_mae = list()\n",
    "kfold = KFold(n_splits=5, shuffle=True, random_state=0)\n",
    "for train_index, test_index in kfold.split(X, y):\n",
    "    std_scale = StandardScaler().fit(X[train_index])\n",
    "    X_train_std = std_scale.transform(X[train_index])\n",
    "    X_test_std = std_scale.transform(X[test_index])\n",
    "    nb_model = BayesianRidge()\n",
    "    nb_model.fit(X_train_std, y[train_index])\n",
    "    y_pred = nb_model.predict(X_test_std)\n",
    "    nb_rmse.append(np.sqrt(metrics.mean_squared_error(y[test_index], y_pred)))\n",
    "    nb_mae.append(metrics.mean_absolute_error(y[test_index], y_pred))\n",
    "    print('RMSE: ', np.sqrt(metrics.mean_squared_error(y[test_index], y_pred)))\n",
    "    print('MAE: ', metrics.mean_absolute_error(y[test_index], y_pred))"
   ]
  },
  {
   "cell_type": "code",
   "execution_count": 12,
   "metadata": {},
   "outputs": [
    {
     "name": "stdout",
     "output_type": "stream",
     "text": [
      "Média da Métrica RMSE:  4.83557053271\n",
      "Média da Métrica MAE:  3.37129256226\n"
     ]
    }
   ],
   "source": [
    "print('Média da Métrica RMSE: ', np.mean(nb_rmse))\n",
    "print('Média da Métrica MAE: ', np.mean(nb_mae))"
   ]
  },
  {
   "cell_type": "markdown",
   "metadata": {},
   "source": [
    "#### SVM"
   ]
  },
  {
   "cell_type": "code",
   "execution_count": 13,
   "metadata": {},
   "outputs": [
    {
     "name": "stdout",
     "output_type": "stream",
     "text": [
      "RMSE:  6.41591144218\n",
      "MAE:  3.62452235988\n",
      "RMSE:  4.89674574894\n",
      "MAE:  3.15535432576\n",
      "RMSE:  3.98474381176\n",
      "MAE:  2.57373511654\n",
      "RMSE:  5.86658026944\n",
      "MAE:  3.32524358533\n",
      "RMSE:  5.99053236748\n",
      "MAE:  3.3973371086\n"
     ]
    }
   ],
   "source": [
    "svm_rmse = list()\n",
    "svm_mae = list()\n",
    "kfold = KFold(n_splits=5, shuffle=True, random_state=0)\n",
    "for train_index, test_index in kfold.split(X, y):\n",
    "    std_scale = StandardScaler().fit(X[train_index])\n",
    "    X_train_std = std_scale.transform(X[train_index])\n",
    "    X_test_std = std_scale.transform(X[test_index])\n",
    "    svm_model = svm.SVR()\n",
    "    svm_model.fit(X_train_std, y[train_index])\n",
    "    y_pred = svm_model.predict(X_test_std)\n",
    "    svm_rmse.append(np.sqrt(metrics.mean_squared_error(y[test_index], y_pred)))\n",
    "    svm_mae.append(metrics.mean_absolute_error(y[test_index], y_pred))\n",
    "    print('RMSE: ', np.sqrt(metrics.mean_squared_error(y[test_index], y_pred)))\n",
    "    print('MAE: ', metrics.mean_absolute_error(y[test_index], y_pred))"
   ]
  },
  {
   "cell_type": "code",
   "execution_count": 14,
   "metadata": {},
   "outputs": [
    {
     "name": "stdout",
     "output_type": "stream",
     "text": [
      "Média da Métrica RMSE:  5.43090272796\n",
      "Média da Métrica MAE:  3.21523849922\n"
     ]
    }
   ],
   "source": [
    "print('Média da Métrica RMSE: ', np.mean(svm_rmse))\n",
    "print('Média da Métrica MAE: ', np.mean(svm_mae))"
   ]
  },
  {
   "cell_type": "markdown",
   "metadata": {},
   "source": [
    "#### Means of the RMSE Metric"
   ]
  },
  {
   "cell_type": "code",
   "execution_count": 15,
   "metadata": {},
   "outputs": [
    {
     "name": "stdout",
     "output_type": "stream",
     "text": [
      "Accuracy:  4.96520704709\n",
      "Accuracy:  4.83842120493\n",
      "Accuracy:  4.47667625498\n",
      "Accuracy:  4.83557053271\n",
      "Accuracy:  5.43090272796\n"
     ]
    },
    {
     "data": {
      "image/png": "[encoded data removed]",
      "text/plain": [
       "<matplotlib.figure.Figure at 0x1bf39f0eb00>"
      ]
     },
     "metadata": {},
     "output_type": "display_data"
    }
   ],
   "source": [
    "labels = ('SGD', 'Linear Regression', 'KNN', 'Naive Bayes', 'SVM')\n",
    "rmse = [np.mean(sgd_rmse),np.mean(lr_rmse),np.mean(knn_rmse),np.mean(nb_rmse),np.mean(svm_rmse)]\n",
    "\n",
    "for i in range(len(rmse)):\n",
    "    print('Accuracy: ', rmse[i])\n",
    "\n",
    "y_pos = np.arange(len(labels))\n",
    " \n",
    "plt.bar(y_pos, rmse, align='center', alpha=0.5)\n",
    "plt.xticks(y_pos, labels)\n",
    "\n",
    "plt.ylabel('RMSE')\n",
    "plt.title('Classifier Models')\n",
    " \n",
    "plt.show()"
   ]
  },
  {
   "cell_type": "markdown",
   "metadata": {},
   "source": [
    "#### Treinar Melhor Modelo - KNN"
   ]
  },
  {
   "cell_type": "code",
   "execution_count": 16,
   "metadata": {
    "collapsed": true
   },
   "outputs": [],
   "source": [
    "std_scale = StandardScaler().fit(X)\n",
    "X_train_std = std_scale.transform(X)\n",
    "X_test_std = std_scale.transform(X)\n",
    "final_model = KNeighborsRegressor(n_jobs=-1)\n",
    "final_model.fit(X_train_std, y)\n",
    "y_pred = svm_model.predict(X_test_std)"
   ]
  },
  {
   "cell_type": "markdown",
   "metadata": {},
   "source": [
    "## Classificação"
   ]
  },
  {
   "cell_type": "markdown",
   "metadata": {},
   "source": [
    "#### Importando o Dataset Breast Cancer Wisconsin"
   ]
  },
  {
   "cell_type": "code",
   "execution_count": 17,
   "metadata": {
    "collapsed": true
   },
   "outputs": [],
   "source": [
    "X, y = datasets.load_breast_cancer(return_X_y=True)"
   ]
  },
  {
   "cell_type": "markdown",
   "metadata": {
    "collapsed": true
   },
   "source": [
    "#### Logistic Regression"
   ]
  },
  {
   "cell_type": "code",
   "execution_count": 18,
   "metadata": {},
   "outputs": [
    {
     "name": "stdout",
     "output_type": "stream",
     "text": [
      "Acc: 0.956140350877\n",
      "\n",
      "\n",
      "[[42  5]\n",
      " [ 0 67]]\n",
      "             precision    recall  f1-score   support\n",
      "\n",
      "          0       1.00      0.89      0.94        47\n",
      "          1       0.93      1.00      0.96        67\n",
      "\n",
      "avg / total       0.96      0.96      0.96       114\n",
      "\n",
      "\n",
      "\n",
      "Acc: 0.947368421053\n",
      "\n",
      "\n",
      "[[31  5]\n",
      " [ 1 77]]\n",
      "             precision    recall  f1-score   support\n",
      "\n",
      "          0       0.97      0.86      0.91        36\n",
      "          1       0.94      0.99      0.96        78\n",
      "\n",
      "avg / total       0.95      0.95      0.95       114\n",
      "\n",
      "\n",
      "\n",
      "Acc: 0.956140350877\n",
      "\n",
      "\n",
      "[[35  5]\n",
      " [ 0 74]]\n",
      "             precision    recall  f1-score   support\n",
      "\n",
      "          0       1.00      0.88      0.93        40\n",
      "          1       0.94      1.00      0.97        74\n",
      "\n",
      "avg / total       0.96      0.96      0.96       114\n",
      "\n",
      "\n",
      "\n",
      "Acc: 0.938596491228\n",
      "\n",
      "\n",
      "[[40  6]\n",
      " [ 1 67]]\n",
      "             precision    recall  f1-score   support\n",
      "\n",
      "          0       0.98      0.87      0.92        46\n",
      "          1       0.92      0.99      0.95        68\n",
      "\n",
      "avg / total       0.94      0.94      0.94       114\n",
      "\n",
      "\n",
      "\n",
      "Acc: 1.0\n",
      "\n",
      "\n",
      "[[43  0]\n",
      " [ 0 70]]\n",
      "             precision    recall  f1-score   support\n",
      "\n",
      "          0       1.00      1.00      1.00        43\n",
      "          1       1.00      1.00      1.00        70\n",
      "\n",
      "avg / total       1.00      1.00      1.00       113\n",
      "\n",
      "\n",
      "\n"
     ]
    }
   ],
   "source": [
    "lr_ac = list()\n",
    "lr_prec = list()\n",
    "lr_recall = list()\n",
    "lr_f1 = list()\n",
    "lr_aoc = list()\n",
    "lr_fpr = list()\n",
    "lr_tpr =  list()\n",
    "kfold = KFold(n_splits=5, shuffle=True, random_state=0)\n",
    "for train_index, test_index in kfold.split(X, y):\n",
    "    norm_scale = MinMaxScaler().fit(X[train_index])\n",
    "    X_train_norm = norm_scale.transform(X[train_index])\n",
    "    X_test_norm = norm_scale.transform(X[test_index])\n",
    "    lr_model = LogisticRegression()\n",
    "    lr_model.fit(X_train_norm, y[train_index])\n",
    "    y_pred = lr_model.predict(X_test_norm)\n",
    "    print('Acc:', metrics.accuracy_score(y[test_index], y_pred))\n",
    "    print('\\n')\n",
    "    print(metrics.confusion_matrix(y[test_index], y_pred))\n",
    "    lr_ac.append(metrics.accuracy_score(y[test_index], y_pred))\n",
    "    lr_prec.append(metrics.precision_score(y[test_index], y_pred))\n",
    "    lr_recall.append(metrics.recall_score(y[test_index], y_pred))\n",
    "    lr_f1.append(metrics.f1_score(y[test_index], y_pred))\n",
    "    y_predict_probabilities = lr_model.predict_proba(X_test_norm)[:,1]\n",
    "    fpr, tpr, thresholds = metrics.roc_curve(y[test_index], y_predict_probabilities)\n",
    "    lr_fpr.append(fpr)\n",
    "    lr_tpr.append(tpr)\n",
    "    lr_aoc.append(metrics.auc(fpr, tpr))\n",
    "    print(metrics.classification_report(y[test_index], y_pred))\n",
    "    print('\\n')"
   ]
  },
  {
   "cell_type": "code",
   "execution_count": 19,
   "metadata": {},
   "outputs": [
    {
     "name": "stdout",
     "output_type": "stream",
     "text": [
      "Média da Métrica Accuracy:  0.959649122807\n",
      "Média da Métrica Precision:  0.944819405147\n",
      "Média da Métrica Recall:  0.994494720965\n",
      "Média da Métrica F1-Measure:  0.968840729669\n",
      "Média da Métrica AOC:  0.991168798052\n"
     ]
    }
   ],
   "source": [
    "print('Média da Métrica Accuracy: ', np.mean(lr_ac))\n",
    "print('Média da Métrica Precision: ', np.mean(lr_prec))\n",
    "print('Média da Métrica Recall: ', np.mean(lr_recall))\n",
    "print('Média da Métrica F1-Measure: ', np.mean(lr_f1))\n",
    "print('Média da Métrica AOC: ', np.mean(lr_aoc))"
   ]
  },
  {
   "cell_type": "markdown",
   "metadata": {
    "collapsed": true
   },
   "source": [
    "#### KNN"
   ]
  },
  {
   "cell_type": "code",
   "execution_count": 20,
   "metadata": {},
   "outputs": [
    {
     "name": "stdout",
     "output_type": "stream",
     "text": [
      "Acc: 0.956140350877\n",
      "\n",
      "\n",
      "[[42  5]\n",
      " [ 0 67]]\n",
      "             precision    recall  f1-score   support\n",
      "\n",
      "          0       1.00      0.89      0.94        47\n",
      "          1       0.93      1.00      0.96        67\n",
      "\n",
      "avg / total       0.96      0.96      0.96       114\n",
      "\n",
      "\n",
      "\n",
      "Acc: 0.947368421053\n",
      "\n",
      "\n",
      "[[33  3]\n",
      " [ 3 75]]\n",
      "             precision    recall  f1-score   support\n",
      "\n",
      "          0       0.92      0.92      0.92        36\n",
      "          1       0.96      0.96      0.96        78\n",
      "\n",
      "avg / total       0.95      0.95      0.95       114\n",
      "\n",
      "\n",
      "\n",
      "Acc: 0.956140350877\n",
      "\n",
      "\n",
      "[[36  4]\n",
      " [ 1 73]]\n",
      "             precision    recall  f1-score   support\n",
      "\n",
      "          0       0.97      0.90      0.94        40\n",
      "          1       0.95      0.99      0.97        74\n",
      "\n",
      "avg / total       0.96      0.96      0.96       114\n",
      "\n",
      "\n",
      "\n",
      "Acc: 0.982456140351\n",
      "\n",
      "\n",
      "[[44  2]\n",
      " [ 0 68]]\n",
      "             precision    recall  f1-score   support\n",
      "\n",
      "          0       1.00      0.96      0.98        46\n",
      "          1       0.97      1.00      0.99        68\n",
      "\n",
      "avg / total       0.98      0.98      0.98       114\n",
      "\n",
      "\n",
      "\n",
      "Acc: 0.991150442478\n",
      "\n",
      "\n",
      "[[43  0]\n",
      " [ 1 69]]\n",
      "             precision    recall  f1-score   support\n",
      "\n",
      "          0       0.98      1.00      0.99        43\n",
      "          1       1.00      0.99      0.99        70\n",
      "\n",
      "avg / total       0.99      0.99      0.99       113\n",
      "\n",
      "\n",
      "\n"
     ]
    }
   ],
   "source": [
    "knn_ac = list()\n",
    "knn_prec = list()\n",
    "knn_recall = list()\n",
    "knn_f1 = list()\n",
    "knn_aoc = list()\n",
    "knn_fpr = list()\n",
    "knn_tpr = list()\n",
    "kfold = KFold(n_splits=5, shuffle=True, random_state=0)\n",
    "for train_index, test_index in kfold.split(X, y):\n",
    "    norm_scale = MinMaxScaler().fit(X[train_index])\n",
    "    X_train_norm = norm_scale.transform(X[train_index])\n",
    "    X_test_norm = norm_scale.transform(X[test_index])\n",
    "    knn_model = KNeighborsClassifier(n_jobs=-1)\n",
    "    knn_model.fit(X_train_norm, y[train_index])\n",
    "    y_pred = knn_model.predict(X_test_norm)\n",
    "    print('Acc:', metrics.accuracy_score(y[test_index], y_pred))\n",
    "    print('\\n')\n",
    "    print(metrics.confusion_matrix(y[test_index], y_pred))\n",
    "    knn_ac.append(metrics.accuracy_score(y[test_index], y_pred))\n",
    "    knn_prec.append(metrics.precision_score(y[test_index], y_pred))\n",
    "    knn_recall.append(metrics.recall_score(y[test_index], y_pred))\n",
    "    knn_f1.append(metrics.f1_score(y[test_index], y_pred))\n",
    "    y_predict_probabilities = knn_model.predict_proba(X_test_norm)[:,1]\n",
    "    fpr, tpr, thresholds = metrics.roc_curve(y[test_index], y_predict_probabilities)\n",
    "    knn_fpr.append(fpr)\n",
    "    knn_tpr.append(tpr)\n",
    "    knn_aoc.append(metrics.auc(fpr, tpr))\n",
    "    print(metrics.classification_report(y[test_index], y_pred))\n",
    "    print('\\n')"
   ]
  },
  {
   "cell_type": "code",
   "execution_count": 21,
   "metadata": {},
   "outputs": [
    {
     "name": "stdout",
     "output_type": "stream",
     "text": [
      "Média da Métrica Accuracy:  0.966651141127\n",
      "Média da Métrica Precision:  0.962314907315\n",
      "Média da Métrica Recall:  0.986747846748\n",
      "Média da Métrica F1-Measure:  0.974153531502\n",
      "Média da Métrica AOC:  0.983886916173\n"
     ]
    }
   ],
   "source": [
    "print('Média da Métrica Accuracy: ', np.mean(knn_ac))\n",
    "print('Média da Métrica Precision: ', np.mean(knn_prec))\n",
    "print('Média da Métrica Recall: ', np.mean(knn_recall))\n",
    "print('Média da Métrica F1-Measure: ', np.mean(knn_f1))\n",
    "print('Média da Métrica AOC: ', np.mean(knn_aoc))"
   ]
  },
  {
   "cell_type": "markdown",
   "metadata": {},
   "source": [
    "#### Naive Bayes"
   ]
  },
  {
   "cell_type": "code",
   "execution_count": 22,
   "metadata": {},
   "outputs": [
    {
     "name": "stdout",
     "output_type": "stream",
     "text": [
      "Acc: 0.90350877193\n",
      "\n",
      "\n",
      "[[42  5]\n",
      " [ 6 61]]\n",
      "             precision    recall  f1-score   support\n",
      "\n",
      "          0       0.88      0.89      0.88        47\n",
      "          1       0.92      0.91      0.92        67\n",
      "\n",
      "avg / total       0.90      0.90      0.90       114\n",
      "\n",
      "\n",
      "\n",
      "Acc: 0.921052631579\n",
      "\n",
      "\n",
      "[[31  5]\n",
      " [ 4 74]]\n",
      "             precision    recall  f1-score   support\n",
      "\n",
      "          0       0.89      0.86      0.87        36\n",
      "          1       0.94      0.95      0.94        78\n",
      "\n",
      "avg / total       0.92      0.92      0.92       114\n",
      "\n",
      "\n",
      "\n",
      "Acc: 0.929824561404\n",
      "\n",
      "\n",
      "[[35  5]\n",
      " [ 3 71]]\n",
      "             precision    recall  f1-score   support\n",
      "\n",
      "          0       0.92      0.88      0.90        40\n",
      "          1       0.93      0.96      0.95        74\n",
      "\n",
      "avg / total       0.93      0.93      0.93       114\n",
      "\n",
      "\n",
      "\n",
      "Acc: 0.938596491228\n",
      "\n",
      "\n",
      "[[42  4]\n",
      " [ 3 65]]\n",
      "             precision    recall  f1-score   support\n",
      "\n",
      "          0       0.93      0.91      0.92        46\n",
      "          1       0.94      0.96      0.95        68\n",
      "\n",
      "avg / total       0.94      0.94      0.94       114\n",
      "\n",
      "\n",
      "\n",
      "Acc: 0.964601769912\n",
      "\n",
      "\n",
      "[[40  3]\n",
      " [ 1 69]]\n",
      "             precision    recall  f1-score   support\n",
      "\n",
      "          0       0.98      0.93      0.95        43\n",
      "          1       0.96      0.99      0.97        70\n",
      "\n",
      "avg / total       0.96      0.96      0.96       113\n",
      "\n",
      "\n",
      "\n"
     ]
    }
   ],
   "source": [
    "nb_ac = list()\n",
    "nb_prec = list()\n",
    "nb_recall = list()\n",
    "nb_f1 = list()\n",
    "nb_aoc = list()\n",
    "nb_fpr = list()\n",
    "nb_tpr = list()\n",
    "kfold = KFold(n_splits=5, shuffle=True, random_state=0)\n",
    "for train_index, test_index in kfold.split(X, y):\n",
    "    norm_scale = MinMaxScaler().fit(X[train_index])\n",
    "    X_train_norm = norm_scale.transform(X[train_index])\n",
    "    X_test_norm = norm_scale.transform(X[test_index])\n",
    "    nb_model = naive_bayes.GaussianNB()\n",
    "    nb_model.fit(X_train_norm, y[train_index])\n",
    "    y_pred = nb_model.predict(X_test_norm)\n",
    "    print('Acc:', metrics.accuracy_score(y[test_index], y_pred))\n",
    "    print('\\n')\n",
    "    print(metrics.confusion_matrix(y[test_index], y_pred))\n",
    "    nb_ac.append(metrics.accuracy_score(y[test_index], y_pred))\n",
    "    nb_prec.append(metrics.precision_score(y[test_index], y_pred))\n",
    "    nb_recall.append(metrics.recall_score(y[test_index], y_pred))\n",
    "    nb_f1.append(metrics.f1_score(y[test_index], y_pred))\n",
    "    y_predict_probabilities = nb_model.predict_proba(X_test_norm)[:,1]\n",
    "    fpr, tpr, thresholds = metrics.roc_curve(y[test_index], y_predict_probabilities)\n",
    "    nb_fpr.append(fpr)\n",
    "    nb_tpr.append(tpr)\n",
    "    nb_aoc.append(metrics.auc(fpr, tpr))\n",
    "    print(metrics.classification_report(y[test_index], y_pred))\n",
    "    print('\\n')"
   ]
  },
  {
   "cell_type": "code",
   "execution_count": 23,
   "metadata": {},
   "outputs": [
    {
     "name": "stdout",
     "output_type": "stream",
     "text": [
      "Média da Métrica Accuracy:  0.93151684521\n",
      "Média da Métrica Precision:  0.939104826032\n",
      "Média da Métrica Recall:  0.952044361605\n",
      "Média da Métrica F1-Measure:  0.945474230878\n",
      "Média da Métrica AOC:  0.986423827305\n"
     ]
    }
   ],
   "source": [
    "print('Média da Métrica Accuracy: ', np.mean(nb_ac))\n",
    "print('Média da Métrica Precision: ', np.mean(nb_prec))\n",
    "print('Média da Métrica Recall: ', np.mean(nb_recall))\n",
    "print('Média da Métrica F1-Measure: ', np.mean(nb_f1))\n",
    "print('Média da Métrica AOC: ', np.mean(nb_aoc))"
   ]
  },
  {
   "cell_type": "markdown",
   "metadata": {},
   "source": [
    "#### SVM"
   ]
  },
  {
   "cell_type": "code",
   "execution_count": 24,
   "metadata": {},
   "outputs": [
    {
     "name": "stdout",
     "output_type": "stream",
     "text": [
      "Acc: 0.956140350877\n",
      "\n",
      "\n",
      "[[42  5]\n",
      " [ 0 67]]\n",
      "             precision    recall  f1-score   support\n",
      "\n",
      "          0       1.00      0.89      0.94        47\n",
      "          1       0.93      1.00      0.96        67\n",
      "\n",
      "avg / total       0.96      0.96      0.96       114\n",
      "\n",
      "\n",
      "\n",
      "Acc: 0.921052631579\n",
      "\n",
      "\n",
      "[[28  8]\n",
      " [ 1 77]]\n",
      "             precision    recall  f1-score   support\n",
      "\n",
      "          0       0.97      0.78      0.86        36\n",
      "          1       0.91      0.99      0.94        78\n",
      "\n",
      "avg / total       0.92      0.92      0.92       114\n",
      "\n",
      "\n",
      "\n",
      "Acc: 0.956140350877\n",
      "\n",
      "\n",
      "[[35  5]\n",
      " [ 0 74]]\n",
      "             precision    recall  f1-score   support\n",
      "\n",
      "          0       1.00      0.88      0.93        40\n",
      "          1       0.94      1.00      0.97        74\n",
      "\n",
      "avg / total       0.96      0.96      0.96       114\n",
      "\n",
      "\n",
      "\n",
      "Acc: 0.956140350877\n",
      "\n",
      "\n",
      "[[41  5]\n",
      " [ 0 68]]\n",
      "             precision    recall  f1-score   support\n",
      "\n",
      "          0       1.00      0.89      0.94        46\n",
      "          1       0.93      1.00      0.96        68\n",
      "\n",
      "avg / total       0.96      0.96      0.96       114\n",
      "\n",
      "\n",
      "\n",
      "Acc: 0.964601769912\n",
      "\n",
      "\n",
      "[[39  4]\n",
      " [ 0 70]]\n",
      "             precision    recall  f1-score   support\n",
      "\n",
      "          0       1.00      0.91      0.95        43\n",
      "          1       0.95      1.00      0.97        70\n",
      "\n",
      "avg / total       0.97      0.96      0.96       113\n",
      "\n",
      "\n",
      "\n"
     ]
    }
   ],
   "source": [
    "svm_ac = list()\n",
    "svm_prec = list()\n",
    "svm_recall = list()\n",
    "svm_f1 = list()\n",
    "svm_aoc = list()\n",
    "svm_fpr = list()\n",
    "svm_tpr = list()\n",
    "kfold = KFold(n_splits=5, shuffle=True, random_state=0)\n",
    "for train_index, test_index in kfold.split(X, y):\n",
    "    norm_scale = MinMaxScaler().fit(X[train_index])\n",
    "    X_train_norm = norm_scale.transform(X[train_index])\n",
    "    X_test_norm = norm_scale.transform(X[test_index])\n",
    "    svm_model = svm.SVC(probability=True)\n",
    "    svm_model.fit(X_train_norm, y[train_index])\n",
    "    y_pred = svm_model.predict(X_test_norm)\n",
    "    print('Acc:', metrics.accuracy_score(y[test_index], y_pred))\n",
    "    print('\\n')\n",
    "    print(metrics.confusion_matrix(y[test_index], y_pred))\n",
    "    svm_ac.append(metrics.accuracy_score(y[test_index], y_pred))\n",
    "    svm_prec.append(metrics.precision_score(y[test_index], y_pred))\n",
    "    svm_recall.append(metrics.recall_score(y[test_index], y_pred))\n",
    "    svm_f1.append(metrics.f1_score(y[test_index], y_pred))\n",
    "    y_predict_probabilities = svm_model.predict_proba(X_test_norm)[:,1]\n",
    "    fpr, tpr, thresholds = metrics.roc_curve(y[test_index], y_predict_probabilities)\n",
    "    svm_fpr.append(fpr)\n",
    "    svm_tpr.append(tpr)\n",
    "    svm_aoc.append(metrics.auc(fpr, tpr))\n",
    "    print(metrics.classification_report(y[test_index], y_pred))\n",
    "    print('\\n')"
   ]
  },
  {
   "cell_type": "code",
   "execution_count": 25,
   "metadata": {},
   "outputs": [
    {
     "name": "stdout",
     "output_type": "stream",
     "text": [
      "Média da Métrica Accuracy:  0.950815090824\n",
      "Média da Métrica Precision:  0.930119912903\n",
      "Média da Métrica Recall:  0.997435897436\n",
      "Média da Métrica F1-Measure:  0.962579108761\n",
      "Média da Métrica AOC:  0.989390294226\n"
     ]
    }
   ],
   "source": [
    "print('Média da Métrica Accuracy: ', np.mean(svm_ac))\n",
    "print('Média da Métrica Precision: ', np.mean(svm_prec))\n",
    "print('Média da Métrica Recall: ', np.mean(svm_recall))\n",
    "print('Média da Métrica F1-Measure: ', np.mean(svm_f1))\n",
    "print('Média da Métrica AOC: ', np.mean(svm_aoc))"
   ]
  },
  {
   "cell_type": "markdown",
   "metadata": {},
   "source": [
    "#### ROC Curve"
   ]
  },
  {
   "cell_type": "code",
   "execution_count": 26,
   "metadata": {},
   "outputs": [
    {
     "data": {
      "image/png": "[encoded data removed]",
      "text/plain": [
       "<matplotlib.figure.Figure at 0x1bf3a092400>"
      ]
     },
     "metadata": {},
     "output_type": "display_data"
    }
   ],
   "source": [
    "plt.figure()\n",
    "plt.plot(lr_fpr[0], lr_tpr[0], color='darkgreen',\n",
    "         lw=2, label='Logistic Regression (area = %0.2f)' % lr_aoc[0])\n",
    "plt.plot(knn_fpr[0], knn_tpr[0], color='darkorange',\n",
    "         lw=2, label='K-nearest Neighbours (area = %0.2f)' % knn_aoc[0])\n",
    "plt.plot(nb_fpr[0], nb_tpr[0], color='darkred',\n",
    "         lw=2, label='Naive Bayes - Gaussian (area = %0.2f)' % nb_aoc[0])\n",
    "plt.plot(svm_fpr[0], svm_tpr[0], color='darkblue',\n",
    "         lw=2, label='SVM (area = %0.2f)' % svm_aoc[0])\n",
    "plt.plot([0, 1], [0, 1], color='navy', lw=2, linestyle='--')\n",
    "plt.xlim([0.0, 1.0])\n",
    "plt.ylim([0.0, 1.05])\n",
    "plt.xlabel('False Positive Rate')\n",
    "plt.ylabel('True Positive Rate')\n",
    "plt.title('ROC Curve')\n",
    "plt.legend(loc=\"lower right\")\n",
    "plt.show()"
   ]
  },
  {
   "cell_type": "markdown",
   "metadata": {},
   "source": [
    "#### Mean Values of Accuracies"
   ]
  },
  {
   "cell_type": "code",
   "execution_count": 27,
   "metadata": {},
   "outputs": [
    {
     "name": "stdout",
     "output_type": "stream",
     "text": [
      "Accuracy:  0.959649122807\n",
      "Accuracy:  0.966651141127\n",
      "Accuracy:  0.93151684521\n",
      "Accuracy:  0.950815090824\n"
     ]
    },
    {
     "data": {
      "image/png": "[encoded data removed]",
      "text/plain": [
       "<matplotlib.figure.Figure at 0x1bf3a099828>"
      ]
     },
     "metadata": {},
     "output_type": "display_data"
    }
   ],
   "source": [
    "labels = ('Logistic Regression', 'KNN', 'Naive Bayes', 'SVM')\n",
    "accuracies = [np.mean(lr_ac),np.mean(knn_ac),np.mean(nb_ac),np.mean(svm_ac)]\n",
    "\n",
    "for i in range(len(accuracies)):\n",
    "    print('Accuracy: ', accuracies[i])\n",
    "\n",
    "y_pos = np.arange(len(labels))\n",
    " \n",
    "plt.bar(y_pos, accuracies, align='center', alpha=0.5)\n",
    "plt.xticks(y_pos, labels)\n",
    "\n",
    "plt.ylabel('Accuracy')\n",
    "plt.title('Classifier Models')\n",
    " \n",
    "plt.show()"
   ]
  },
  {
   "cell_type": "markdown",
   "metadata": {
    "collapsed": true
   },
   "source": [
    "#### Treinar Melhor Modelo - KNN"
   ]
  },
  {
   "cell_type": "code",
   "execution_count": 28,
   "metadata": {
    "collapsed": true
   },
   "outputs": [],
   "source": [
    "norm_scale = MinMaxScaler().fit(X)\n",
    "X_train_norm = norm_scale.transform(X)\n",
    "X_test_norm = norm_scale.transform(X)\n",
    "final_model = KNeighborsClassifier(n_jobs=-1)\n",
    "final_model.fit(X_train_norm, y)\n",
    "y_pred = final_model.predict(X_test_norm)"
   ]
  },
  {
   "cell_type": "code",
   "execution_count": null,
   "metadata": {
    "collapsed": true
   },
   "outputs": [],
   "source": []
  }
 ],
 "metadata": {
  "kernelspec": {
   "display_name": "Python 3",
   "language": "python",
   "name": "python3"
  },
  "language_info": {
   "codemirror_mode": {
    "name": "ipython",
    "version": 3
   },
   "file_extension": ".py",
   "mimetype": "text/x-python",
   "name": "python",
   "nbconvert_exporter": "python",
   "pygments_lexer": "ipython3",
   "version": "3.6.4"
  }
 },
 "nbformat": 4,
 "nbformat_minor": 2
}
