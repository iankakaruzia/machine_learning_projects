{
 "cells": [
  {
   "cell_type": "markdown",
   "metadata": {},
   "source": [
    "# Lista de Exercícios 10\n",
    "Ianka Karúzia Rabelo de Oliveira - 365560"
   ]
  },
  {
   "cell_type": "code",
   "execution_count": 1,
   "metadata": {},
   "outputs": [],
   "source": [
    "import numpy as np\n",
    "import pandas as pd\n",
    "from sklearn.linear_model import SGDClassifier\n",
    "from sklearn.metrics import accuracy_score\n",
    "from sklearn.model_selection import train_test_split\n",
    "from sklearn.preprocessing import StandardScaler"
   ]
  },
  {
   "cell_type": "code",
   "execution_count": 2,
   "metadata": {},
   "outputs": [],
   "source": [
    "df = pd.read_csv('binary.csv')"
   ]
  },
  {
   "cell_type": "code",
   "execution_count": 3,
   "metadata": {},
   "outputs": [
    {
     "data": {
      "text/html": [
       "<div>\n",
       "<style scoped>\n",
       "    .dataframe tbody tr th:only-of-type {\n",
       "        vertical-align: middle;\n",
       "    }\n",
       "\n",
       "    .dataframe tbody tr th {\n",
       "        vertical-align: top;\n",
       "    }\n",
       "\n",
       "    .dataframe thead th {\n",
       "        text-align: right;\n",
       "    }\n",
       "</style>\n",
       "<table border=\"1\" class=\"dataframe\">\n",
       "  <thead>\n",
       "    <tr style=\"text-align: right;\">\n",
       "      <th></th>\n",
       "      <th>admit</th>\n",
       "      <th>gre</th>\n",
       "      <th>gpa</th>\n",
       "      <th>rank</th>\n",
       "    </tr>\n",
       "  </thead>\n",
       "  <tbody>\n",
       "    <tr>\n",
       "      <th>0</th>\n",
       "      <td>0</td>\n",
       "      <td>380</td>\n",
       "      <td>3.61</td>\n",
       "      <td>3</td>\n",
       "    </tr>\n",
       "    <tr>\n",
       "      <th>1</th>\n",
       "      <td>1</td>\n",
       "      <td>660</td>\n",
       "      <td>3.67</td>\n",
       "      <td>3</td>\n",
       "    </tr>\n",
       "    <tr>\n",
       "      <th>2</th>\n",
       "      <td>1</td>\n",
       "      <td>800</td>\n",
       "      <td>4.00</td>\n",
       "      <td>1</td>\n",
       "    </tr>\n",
       "    <tr>\n",
       "      <th>3</th>\n",
       "      <td>1</td>\n",
       "      <td>640</td>\n",
       "      <td>3.19</td>\n",
       "      <td>4</td>\n",
       "    </tr>\n",
       "    <tr>\n",
       "      <th>4</th>\n",
       "      <td>0</td>\n",
       "      <td>520</td>\n",
       "      <td>2.93</td>\n",
       "      <td>4</td>\n",
       "    </tr>\n",
       "  </tbody>\n",
       "</table>\n",
       "</div>"
      ],
      "text/plain": [
       "   admit  gre   gpa  rank\n",
       "0      0  380  3.61     3\n",
       "1      1  660  3.67     3\n",
       "2      1  800  4.00     1\n",
       "3      1  640  3.19     4\n",
       "4      0  520  2.93     4"
      ]
     },
     "execution_count": 3,
     "metadata": {},
     "output_type": "execute_result"
    }
   ],
   "source": [
    "df.head()"
   ]
  },
  {
   "cell_type": "code",
   "execution_count": 4,
   "metadata": {},
   "outputs": [
    {
     "name": "stdout",
     "output_type": "stream",
     "text": [
      "Class labels [0 1]\n"
     ]
    }
   ],
   "source": [
    "print('Class labels', np.unique(df['admit']))"
   ]
  },
  {
   "cell_type": "code",
   "execution_count": 5,
   "metadata": {},
   "outputs": [],
   "source": [
    "# Train/Test Split\n",
    "X, y = df.iloc[:, 1:].values, df.iloc[:,0].values\n",
    "\n",
    "X_train, X_test, y_train, y_test = train_test_split(X, y, test_size=0.3, random_state=0, stratify=y)"
   ]
  },
  {
   "cell_type": "code",
   "execution_count": 6,
   "metadata": {},
   "outputs": [],
   "source": [
    "# Standardization\n",
    "std = StandardScaler()\n",
    "X_train_std = std.fit_transform(X_train)\n",
    "X_test_std = std.transform(X_test)"
   ]
  },
  {
   "cell_type": "markdown",
   "metadata": {},
   "source": [
    "### Sem Regularização\n",
    "- **Alpha: 0.0001**"
   ]
  },
  {
   "cell_type": "code",
   "execution_count": 7,
   "metadata": {},
   "outputs": [
    {
     "name": "stdout",
     "output_type": "stream",
     "text": [
      "accuracy_score:0.6166666666666667\n",
      "intercept_:\n",
      "[-4.24303181]\n",
      "coef_:\n",
      "[[-6.47497185  6.03313697 -7.15383907]]\n"
     ]
    }
   ],
   "source": [
    "model_none = SGDClassifier(penalty='none', alpha=0.0001, random_state=0, max_iter=5)\n",
    "model_none.fit(X_train_std, y_train)\n",
    "y_pred = model_none.predict(X_test_std)\n",
    "print('accuracy_score:{}\\nintercept_:\\n{}\\ncoef_:\\n{}'.format(accuracy_score(y_test, y_pred), model_none.intercept_, model_none.coef_))"
   ]
  },
  {
   "cell_type": "markdown",
   "metadata": {},
   "source": [
    "- **Alpha: 0.01**"
   ]
  },
  {
   "cell_type": "code",
   "execution_count": 8,
   "metadata": {},
   "outputs": [
    {
     "name": "stdout",
     "output_type": "stream",
     "text": [
      "accuracy_score:0.6833333333333333\n",
      "intercept_:\n",
      "[-0.98698421]\n",
      "coef_:\n",
      "[[ 0.0221446  0.3534601 -0.2107745]]\n"
     ]
    }
   ],
   "source": [
    "model_none = SGDClassifier(penalty='none', alpha=0.01, random_state=0, max_iter=5)\n",
    "model_none.fit(X_train_std, y_train)\n",
    "y_pred = model_none.predict(X_test_std)\n",
    "print('accuracy_score:{}\\nintercept_:\\n{}\\ncoef_:\\n{}'.format(accuracy_score(y_test, y_pred), model_none.intercept_, model_none.coef_))"
   ]
  },
  {
   "cell_type": "markdown",
   "metadata": {},
   "source": [
    "- **Alpha: 1**"
   ]
  },
  {
   "cell_type": "code",
   "execution_count": 9,
   "metadata": {},
   "outputs": [
    {
     "name": "stdout",
     "output_type": "stream",
     "text": [
      "accuracy_score:0.7333333333333333\n",
      "intercept_:\n",
      "[-1.34130653]\n",
      "coef_:\n",
      "[[ 0.34890908  0.43369854 -0.86170738]]\n"
     ]
    }
   ],
   "source": [
    "model_none = SGDClassifier(penalty='none', alpha=1, random_state=0, max_iter=5)\n",
    "model_none.fit(X_train_std, y_train)\n",
    "y_pred = model_none.predict(X_test_std)\n",
    "print('accuracy_score:{}\\nintercept_:\\n{}\\ncoef_:\\n{}'.format(accuracy_score(y_test, y_pred), model_none.intercept_, model_none.coef_))"
   ]
  },
  {
   "cell_type": "markdown",
   "metadata": {},
   "source": [
    "- **Alpha: 10**"
   ]
  },
  {
   "cell_type": "code",
   "execution_count": 10,
   "metadata": {},
   "outputs": [
    {
     "name": "stdout",
     "output_type": "stream",
     "text": [
      "accuracy_score:0.7416666666666667\n",
      "intercept_:\n",
      "[-0.75271383]\n",
      "coef_:\n",
      "[[ 0.66391879  0.08422368 -0.7955193 ]]\n"
     ]
    }
   ],
   "source": [
    "model_none = SGDClassifier(penalty='none', alpha=10, random_state=0, max_iter=5)\n",
    "model_none.fit(X_train_std, y_train)\n",
    "y_pred = model_none.predict(X_test_std)\n",
    "print('accuracy_score:{}\\nintercept_:\\n{}\\ncoef_:\\n{}'.format(accuracy_score(y_test, y_pred), model_none.intercept_, model_none.coef_))"
   ]
  },
  {
   "cell_type": "markdown",
   "metadata": {},
   "source": [
    "- **Alpha: 100**"
   ]
  },
  {
   "cell_type": "code",
   "execution_count": 11,
   "metadata": {},
   "outputs": [
    {
     "name": "stdout",
     "output_type": "stream",
     "text": [
      "accuracy_score:0.7333333333333333\n",
      "intercept_:\n",
      "[-0.34919719]\n",
      "coef_:\n",
      "[[ 0.45296725  0.01061688 -0.49585002]]\n"
     ]
    }
   ],
   "source": [
    "model_none = SGDClassifier(penalty='none', alpha=100, random_state=0, max_iter=5)\n",
    "model_none.fit(X_train_std, y_train)\n",
    "y_pred = model_none.predict(X_test_std)\n",
    "print('accuracy_score:{}\\nintercept_:\\n{}\\ncoef_:\\n{}'.format(accuracy_score(y_test, y_pred), model_none.intercept_, model_none.coef_))"
   ]
  },
  {
   "cell_type": "markdown",
   "metadata": {},
   "source": [
    "**Modelo com Alpha 10 Obteve Melhor Acurácia**"
   ]
  },
  {
   "cell_type": "markdown",
   "metadata": {},
   "source": [
    "### Regularização l1\n",
    "- **Alpha: 0.0001**"
   ]
  },
  {
   "cell_type": "code",
   "execution_count": 12,
   "metadata": {},
   "outputs": [
    {
     "name": "stdout",
     "output_type": "stream",
     "text": [
      "accuracy_score:0.5833333333333334\n",
      "intercept_:\n",
      "[0.01195232]\n",
      "coef_:\n",
      "[[-3.27282762  5.49421398 -8.54312128]]\n"
     ]
    }
   ],
   "source": [
    "model_l1 = SGDClassifier(penalty='l1', alpha=0.0001, random_state=0, max_iter=5)\n",
    "model_l1.fit(X_train_std, y_train)\n",
    "y_pred = model_l1.predict(X_test_std)\n",
    "print('accuracy_score:{}\\nintercept_:\\n{}\\ncoef_:\\n{}'.format(accuracy_score(y_test, y_pred), model_l1.intercept_, model_l1.coef_))"
   ]
  },
  {
   "cell_type": "markdown",
   "metadata": {},
   "source": [
    "- **Alpha: 0.01**"
   ]
  },
  {
   "cell_type": "code",
   "execution_count": 13,
   "metadata": {},
   "outputs": [
    {
     "name": "stdout",
     "output_type": "stream",
     "text": [
      "accuracy_score:0.6833333333333333\n",
      "intercept_:\n",
      "[-1.07590361]\n",
      "coef_:\n",
      "[[ 0.          0.11067859 -0.10788836]]\n"
     ]
    }
   ],
   "source": [
    "model_l1 = SGDClassifier(penalty='l1', alpha=0.01, random_state=0, max_iter=5)\n",
    "model_l1.fit(X_train_std, y_train)\n",
    "y_pred = model_l1.predict(X_test_std)\n",
    "print('accuracy_score:{}\\nintercept_:\\n{}\\ncoef_:\\n{}'.format(accuracy_score(y_test, y_pred), model_l1.intercept_, model_l1.coef_))"
   ]
  },
  {
   "cell_type": "markdown",
   "metadata": {},
   "source": [
    "- **Alpha: 1**"
   ]
  },
  {
   "cell_type": "code",
   "execution_count": 14,
   "metadata": {},
   "outputs": [
    {
     "name": "stdout",
     "output_type": "stream",
     "text": [
      "accuracy_score:0.6833333333333333\n",
      "intercept_:\n",
      "[-1.00066861]\n",
      "coef_:\n",
      "[[0. 0. 0.]]\n"
     ]
    }
   ],
   "source": [
    "model_l1 = SGDClassifier(penalty='l1', alpha=1, random_state=0, max_iter=5)\n",
    "model_l1.fit(X_train_std, y_train)\n",
    "y_pred = model_l1.predict(X_test_std)\n",
    "print('accuracy_score:{}\\nintercept_:\\n{}\\ncoef_:\\n{}'.format(accuracy_score(y_test, y_pred), model_l1.intercept_, model_l1.coef_))"
   ]
  },
  {
   "cell_type": "markdown",
   "metadata": {},
   "source": [
    "- **Alpha: 10**"
   ]
  },
  {
   "cell_type": "code",
   "execution_count": 15,
   "metadata": {},
   "outputs": [
    {
     "name": "stdout",
     "output_type": "stream",
     "text": [
      "accuracy_score:0.6833333333333333\n",
      "intercept_:\n",
      "[-0.94868944]\n",
      "coef_:\n",
      "[[0. 0. 0.]]\n"
     ]
    }
   ],
   "source": [
    "model_l1 = SGDClassifier(penalty='l1', alpha=10, random_state=0, max_iter=5)\n",
    "model_l1.fit(X_train_std, y_train)\n",
    "y_pred = model_l1.predict(X_test_std)\n",
    "print('accuracy_score:{}\\nintercept_:\\n{}\\ncoef_:\\n{}'.format(accuracy_score(y_test, y_pred), model_l1.intercept_, model_l1.coef_))"
   ]
  },
  {
   "cell_type": "markdown",
   "metadata": {},
   "source": [
    "- **Alpha: 100**"
   ]
  },
  {
   "cell_type": "code",
   "execution_count": 16,
   "metadata": {},
   "outputs": [
    {
     "name": "stdout",
     "output_type": "stream",
     "text": [
      "accuracy_score:0.6833333333333333\n",
      "intercept_:\n",
      "[-0.35668417]\n",
      "coef_:\n",
      "[[0. 0. 0.]]\n"
     ]
    }
   ],
   "source": [
    "model_l1 = SGDClassifier(penalty='l1', alpha=100, random_state=0, max_iter=5)\n",
    "model_l1.fit(X_train_std, y_train)\n",
    "y_pred = model_l1.predict(X_test_std)\n",
    "print('accuracy_score:{}\\nintercept_:\\n{}\\ncoef_:\\n{}'.format(accuracy_score(y_test, y_pred), model_l1.intercept_, model_l1.coef_))"
   ]
  },
  {
   "cell_type": "markdown",
   "metadata": {},
   "source": [
    "**Os modelos com alpha 0.01, 1, 10, 100 obtiveram o mesmo valor de acurácia**"
   ]
  },
  {
   "cell_type": "markdown",
   "metadata": {},
   "source": [
    "### Regularização l2\n",
    "- **Alpha: 0.0001**"
   ]
  },
  {
   "cell_type": "code",
   "execution_count": 17,
   "metadata": {},
   "outputs": [
    {
     "name": "stdout",
     "output_type": "stream",
     "text": [
      "accuracy_score:0.6083333333333333\n",
      "intercept_:\n",
      "[-0.22774255]\n",
      "coef_:\n",
      "[[  0.21775132   5.65669395 -10.9034331 ]]\n"
     ]
    }
   ],
   "source": [
    "model_l2 = SGDClassifier(penalty='l2', alpha=0.0001, random_state=0, max_iter=5)\n",
    "model_l2.fit(X_train_std, y_train)\n",
    "y_pred = model_l2.predict(X_test_std)\n",
    "print('accuracy_score:{}\\nintercept_:\\n{}\\ncoef_:\\n{}'.format(accuracy_score(y_test, y_pred), model_l2.intercept_, model_l2.coef_))"
   ]
  },
  {
   "cell_type": "markdown",
   "metadata": {},
   "source": [
    "- **Alpha: 0.01**"
   ]
  },
  {
   "cell_type": "code",
   "execution_count": 18,
   "metadata": {},
   "outputs": [
    {
     "name": "stdout",
     "output_type": "stream",
     "text": [
      "accuracy_score:0.6833333333333333\n",
      "intercept_:\n",
      "[-0.99967146]\n",
      "coef_:\n",
      "[[ 0.02742837  0.38325508 -0.18283881]]\n"
     ]
    }
   ],
   "source": [
    "model_l2 = SGDClassifier(penalty='l2', alpha=0.01, random_state=0, max_iter=5)\n",
    "model_l2.fit(X_train_std, y_train)\n",
    "y_pred = model_l2.predict(X_test_std)\n",
    "print('accuracy_score:{}\\nintercept_:\\n{}\\ncoef_:\\n{}'.format(accuracy_score(y_test, y_pred), model_l2.intercept_, model_l2.coef_))"
   ]
  },
  {
   "cell_type": "markdown",
   "metadata": {},
   "source": [
    "- **Alpha: 1**"
   ]
  },
  {
   "cell_type": "code",
   "execution_count": 19,
   "metadata": {},
   "outputs": [
    {
     "name": "stdout",
     "output_type": "stream",
     "text": [
      "accuracy_score:0.6833333333333333\n",
      "intercept_:\n",
      "[-0.99980314]\n",
      "coef_:\n",
      "[[ 0.00092415  0.00360407 -0.00198001]]\n"
     ]
    }
   ],
   "source": [
    "model_l2 = SGDClassifier(penalty='l2', alpha=1, random_state=0, max_iter=5)\n",
    "model_l2.fit(X_train_std, y_train)\n",
    "y_pred = model_l2.predict(X_test_std)\n",
    "print('accuracy_score:{}\\nintercept_:\\n{}\\ncoef_:\\n{}'.format(accuracy_score(y_test, y_pred), model_l2.intercept_, model_l2.coef_))"
   ]
  },
  {
   "cell_type": "markdown",
   "metadata": {},
   "source": [
    "- **Alpha: 10**"
   ]
  },
  {
   "cell_type": "code",
   "execution_count": 20,
   "metadata": {},
   "outputs": [
    {
     "name": "stdout",
     "output_type": "stream",
     "text": [
      "accuracy_score:0.6833333333333333\n",
      "intercept_:\n",
      "[-0.9470707]\n",
      "coef_:\n",
      "[[ 0.01097984  0.01771609 -0.01665724]]\n"
     ]
    }
   ],
   "source": [
    "model_l2 = SGDClassifier(penalty='l2', alpha=10, random_state=0, max_iter=5)\n",
    "model_l2.fit(X_train_std, y_train)\n",
    "y_pred = model_l2.predict(X_test_std)\n",
    "print('accuracy_score:{}\\nintercept_:\\n{}\\ncoef_:\\n{}'.format(accuracy_score(y_test, y_pred), model_l2.intercept_, model_l2.coef_))"
   ]
  },
  {
   "cell_type": "markdown",
   "metadata": {},
   "source": [
    "- **Alpha: 100**"
   ]
  },
  {
   "cell_type": "code",
   "execution_count": 21,
   "metadata": {},
   "outputs": [
    {
     "name": "stdout",
     "output_type": "stream",
     "text": [
      "accuracy_score:0.6833333333333333\n",
      "intercept_:\n",
      "[-0.35668417]\n",
      "coef_:\n",
      "[[ 0.00131703  0.00198347 -0.001821  ]]\n"
     ]
    }
   ],
   "source": [
    "model_l2 = SGDClassifier(penalty='l2', alpha=100, random_state=0, max_iter=5)\n",
    "model_l2.fit(X_train_std, y_train)\n",
    "y_pred = model_l2.predict(X_test_std)\n",
    "print('accuracy_score:{}\\nintercept_:\\n{}\\ncoef_:\\n{}'.format(accuracy_score(y_test, y_pred), model_l2.intercept_, model_l2.coef_))"
   ]
  },
  {
   "cell_type": "markdown",
   "metadata": {},
   "source": [
    "**Os modelos com alpha 0.01, 1, 10, 100 obtiveram o mesmo valor de acurácia**"
   ]
  },
  {
   "cell_type": "markdown",
   "metadata": {},
   "source": [
    "### Regularização Elastic Net\n",
    "- **Alpha: 0.0001**"
   ]
  },
  {
   "cell_type": "code",
   "execution_count": 22,
   "metadata": {},
   "outputs": [
    {
     "name": "stdout",
     "output_type": "stream",
     "text": [
      "accuracy_score:0.6083333333333333\n",
      "intercept_:\n",
      "[-0.389888]\n",
      "coef_:\n",
      "[[ -0.20136738   5.25308175 -11.21983356]]\n"
     ]
    }
   ],
   "source": [
    "model_en = SGDClassifier(penalty='elasticnet', alpha=0.0001, random_state=0, max_iter=5)\n",
    "model_en.fit(X_train_std, y_train)\n",
    "y_pred = model_en.predict(X_test_std)\n",
    "print('accuracy_score:{}\\nintercept_:\\n{}\\ncoef_:\\n{}'.format(accuracy_score(y_test, y_pred), model_en.intercept_, model_en.coef_))"
   ]
  },
  {
   "cell_type": "markdown",
   "metadata": {},
   "source": [
    "- **Alpha: 0.01**"
   ]
  },
  {
   "cell_type": "code",
   "execution_count": 23,
   "metadata": {},
   "outputs": [
    {
     "name": "stdout",
     "output_type": "stream",
     "text": [
      "accuracy_score:0.6833333333333333\n",
      "intercept_:\n",
      "[-1.03709143]\n",
      "coef_:\n",
      "[[ 0.          0.15503843 -0.14340616]]\n"
     ]
    }
   ],
   "source": [
    "model_en = SGDClassifier(penalty='elasticnet', alpha=0.01, random_state=0, max_iter=5)\n",
    "model_en.fit(X_train_std, y_train)\n",
    "y_pred = model_en.predict(X_test_std)\n",
    "print('accuracy_score:{}\\nintercept_:\\n{}\\ncoef_:\\n{}'.format(accuracy_score(y_test, y_pred), model_en.intercept_, model_en.coef_))"
   ]
  },
  {
   "cell_type": "markdown",
   "metadata": {},
   "source": [
    "- **Alpha: 1**"
   ]
  },
  {
   "cell_type": "code",
   "execution_count": 24,
   "metadata": {},
   "outputs": [
    {
     "name": "stdout",
     "output_type": "stream",
     "text": [
      "accuracy_score:0.6833333333333333\n",
      "intercept_:\n",
      "[-1.00046583]\n",
      "coef_:\n",
      "[[0. 0. 0.]]\n"
     ]
    }
   ],
   "source": [
    "model_en = SGDClassifier(penalty='elasticnet', alpha=1, random_state=0, max_iter=5)\n",
    "model_en.fit(X_train_std, y_train)\n",
    "y_pred = model_en.predict(X_test_std)\n",
    "print('accuracy_score:{}\\nintercept_:\\n{}\\ncoef_:\\n{}'.format(accuracy_score(y_test, y_pred), model_en.intercept_, model_en.coef_))"
   ]
  },
  {
   "cell_type": "markdown",
   "metadata": {},
   "source": [
    "- **Alpha: 10**"
   ]
  },
  {
   "cell_type": "code",
   "execution_count": 25,
   "metadata": {},
   "outputs": [
    {
     "name": "stdout",
     "output_type": "stream",
     "text": [
      "accuracy_score:0.6833333333333333\n",
      "intercept_:\n",
      "[-0.94868944]\n",
      "coef_:\n",
      "[[0. 0. 0.]]\n"
     ]
    }
   ],
   "source": [
    "model_en = SGDClassifier(penalty='elasticnet', alpha=10, random_state=0, max_iter=5)\n",
    "model_en.fit(X_train_std, y_train)\n",
    "y_pred = model_en.predict(X_test_std)\n",
    "print('accuracy_score:{}\\nintercept_:\\n{}\\ncoef_:\\n{}'.format(accuracy_score(y_test, y_pred), model_en.intercept_, model_en.coef_))"
   ]
  },
  {
   "cell_type": "markdown",
   "metadata": {},
   "source": [
    "- **Alpha: 100**"
   ]
  },
  {
   "cell_type": "code",
   "execution_count": 26,
   "metadata": {},
   "outputs": [
    {
     "name": "stdout",
     "output_type": "stream",
     "text": [
      "accuracy_score:0.6833333333333333\n",
      "intercept_:\n",
      "[-0.35668417]\n",
      "coef_:\n",
      "[[0. 0. 0.]]\n"
     ]
    }
   ],
   "source": [
    "model_en = SGDClassifier(penalty='elasticnet', alpha=100, random_state=0, max_iter=5)\n",
    "model_en.fit(X_train_std, y_train)\n",
    "y_pred = model_en.predict(X_test_std)\n",
    "print('accuracy_score:{}\\nintercept_:\\n{}\\ncoef_:\\n{}'.format(accuracy_score(y_test, y_pred), model_en.intercept_, model_en.coef_))"
   ]
  },
  {
   "cell_type": "markdown",
   "metadata": {},
   "source": [
    "**Os modelos com alpha 0.01, 1, 10, 100 obtiveram o mesmo valor de acurácia**"
   ]
  },
  {
   "cell_type": "code",
   "execution_count": null,
   "metadata": {},
   "outputs": [],
   "source": []
  }
 ],
 "metadata": {
  "kernelspec": {
   "display_name": "Python 3",
   "language": "python",
   "name": "python3"
  },
  "language_info": {
   "codemirror_mode": {
    "name": "ipython",
    "version": 3
   },
   "file_extension": ".py",
   "mimetype": "text/x-python",
   "name": "python",
   "nbconvert_exporter": "python",
   "pygments_lexer": "ipython3",
   "version": "3.6.4"
  }
 },
 "nbformat": 4,
 "nbformat_minor": 2
}
