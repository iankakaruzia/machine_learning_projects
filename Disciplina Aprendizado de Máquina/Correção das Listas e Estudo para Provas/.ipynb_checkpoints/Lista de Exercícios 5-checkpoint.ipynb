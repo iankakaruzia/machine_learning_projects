{
 "cells": [
  {
   "cell_type": "markdown",
   "metadata": {},
   "source": [
    "# Lista de Exercícios 5"
   ]
  },
  {
   "cell_type": "code",
   "execution_count": 1,
   "metadata": {
    "collapsed": true
   },
   "outputs": [],
   "source": [
    "%matplotlib inline\n",
    "import matplotlib.pyplot as plt\n",
    "import seaborn as sns\n",
    "import pandas as pd\n",
    "import numpy as np\n",
    "from sklearn import linear_model, metrics"
   ]
  },
  {
   "cell_type": "code",
   "execution_count": 2,
   "metadata": {
    "collapsed": true
   },
   "outputs": [],
   "source": [
    "# METRICS LIBRARY\n",
    "def confusion_matrix(y_true, y_pred):\n",
    "    n_classes = len(np.unique(y_true))\n",
    "    m = [[0] * n_classes for i in range(n_classes)]\n",
    "    for pred, true in zip(y_pred, y_true):\n",
    "        m[int(true)][int(pred)] += 1\n",
    "    final_matrix = np.array(m)\n",
    "    return final_matrix\n",
    "\n",
    "def accuracy(y_true, y_pred):\n",
    "    cm = confusion_matrix(y_true, y_pred)\n",
    "    return (np.sum(np.diagonal(cm)))/float(np.sum(cm))\n",
    "\n",
    "def precision(y_true, y_pred):\n",
    "    cm = confusion_matrix(y_true, y_pred)\n",
    "    l = []\n",
    "    n = len(cm)\n",
    "    for i in range(n):\n",
    "        soma = float(cm[i][i]) / float(np.sum(cm[:,i]))\n",
    "        l.append(soma)\n",
    "    return np.array(l)\n",
    "\n",
    "def recall(y_true, y_pred):\n",
    "    cm = confusion_matrix(y_true, y_pred)\n",
    "    l = []\n",
    "    n = len(cm)\n",
    "    for i in range(n):\n",
    "        soma = float(cm[i][i]) / float(np.sum(cm[i,:]))\n",
    "        l.append(soma)\n",
    "    return np.array(l)\n",
    "\n",
    "def f1_measure(y_true, y_pred):\n",
    "    precision_ = precision(y_true, y_pred)\n",
    "    recall_ = recall(y_true, y_pred)\n",
    "    return 2 * (precision_ * recall_) / (precision_ + recall_)\n"
   ]
  },
  {
   "cell_type": "code",
   "execution_count": 3,
   "metadata": {
    "collapsed": true
   },
   "outputs": [],
   "source": [
    "# RESAMPLE LIBRARY\n",
    "def split_stratified_train_test(y, perc_train = 0.7, seed = 0):\n",
    "    np.random.seed(seed)\n",
    "    classes, y_indices = np.unique(y, return_inverse=True)\n",
    "    n_classes = classes.shape[0]\n",
    "    class_counts = np.bincount(y_indices)\n",
    "    class_indices = np.split(np.argsort(y_indices, kind='mergesort'), np.cumsum(class_counts)[:-1])\n",
    "    \n",
    "    train = []\n",
    "    test = []\n",
    "    \n",
    "    for n, i in zip(class_counts, class_indices):\n",
    "        n_t = np.int(np.round(n * perc_train))\n",
    "        np.random.shuffle(i)\n",
    "        train.extend(i[:n_t])\n",
    "        test.extend(i[n_t:])\n",
    "    return np.array(train), np.array(test)"
   ]
  },
  {
   "cell_type": "code",
   "execution_count": 4,
   "metadata": {
    "collapsed": true
   },
   "outputs": [],
   "source": [
    "columns = ['pregnancies', 'glucose', 'blood_pressure', 'skin_thickness', 'insulin', 'bmi', 'diabetes_pedigree_function', \n",
    "           'age', 'outcome']\n",
    "dataset = pd.read_csv('pima-indians-diabetes.csv', names=columns)"
   ]
  },
  {
   "cell_type": "code",
   "execution_count": 5,
   "metadata": {
    "collapsed": true
   },
   "outputs": [],
   "source": [
    "data = dataset.values"
   ]
  },
  {
   "cell_type": "code",
   "execution_count": 6,
   "metadata": {
    "collapsed": true
   },
   "outputs": [],
   "source": [
    "X = data[:,:8]\n",
    "y = data[:,8]"
   ]
  },
  {
   "cell_type": "code",
   "execution_count": 7,
   "metadata": {
    "collapsed": true
   },
   "outputs": [],
   "source": [
    "idx_train, idx_test = split_stratified_train_test(y)"
   ]
  },
  {
   "cell_type": "code",
   "execution_count": 8,
   "metadata": {
    "collapsed": true
   },
   "outputs": [],
   "source": [
    "X_train = X[idx_train]\n",
    "y_train = y[idx_train]\n",
    "X_test = X[idx_test]\n",
    "y_test = y[idx_test]"
   ]
  },
  {
   "cell_type": "code",
   "execution_count": 9,
   "metadata": {
    "collapsed": true
   },
   "outputs": [],
   "source": [
    "model = linear_model.LogisticRegression()"
   ]
  },
  {
   "cell_type": "code",
   "execution_count": 10,
   "metadata": {},
   "outputs": [
    {
     "data": {
      "text/plain": [
       "LogisticRegression(C=1.0, class_weight=None, dual=False, fit_intercept=True,\n",
       "          intercept_scaling=1, max_iter=100, multi_class='ovr', n_jobs=1,\n",
       "          penalty='l2', random_state=None, solver='liblinear', tol=0.0001,\n",
       "          verbose=0, warm_start=False)"
      ]
     },
     "execution_count": 10,
     "metadata": {},
     "output_type": "execute_result"
    }
   ],
   "source": [
    "model.fit(X_train, y_train)"
   ]
  },
  {
   "cell_type": "code",
   "execution_count": 11,
   "metadata": {
    "collapsed": true
   },
   "outputs": [],
   "source": [
    "y_pred =  model.predict(X_test)"
   ]
  },
  {
   "cell_type": "code",
   "execution_count": 12,
   "metadata": {},
   "outputs": [
    {
     "name": "stdout",
     "output_type": "stream",
     "text": [
      "[[136  14]\n",
      " [ 34  46]]\n",
      "Accuracy:  0.791304347826\n",
      "Precision:  [ 0.8         0.76666667]\n",
      "Recall:  [ 0.90666667  0.575     ]\n",
      "F1 Measure:  [ 0.85        0.65714286]\n"
     ]
    }
   ],
   "source": [
    "print(confusion_matrix(y_test, y_pred))\n",
    "print('Accuracy: ', accuracy(y_test, y_pred))\n",
    "print('Precision: ', precision(y_test, y_pred))\n",
    "print('Recall: ', recall(y_test, y_pred))\n",
    "print('F1 Measure: ', f1_measure(y_test, y_pred))"
   ]
  },
  {
   "cell_type": "code",
   "execution_count": 13,
   "metadata": {},
   "outputs": [
    {
     "name": "stdout",
     "output_type": "stream",
     "text": [
      "[[136  14]\n",
      " [ 34  46]]\n",
      "0.791304347826\n",
      "             precision    recall  f1-score   support\n",
      "\n",
      "        0.0       0.80      0.91      0.85       150\n",
      "        1.0       0.77      0.57      0.66        80\n",
      "\n",
      "avg / total       0.79      0.79      0.78       230\n",
      "\n"
     ]
    }
   ],
   "source": [
    "print(metrics.confusion_matrix(y_test, y_pred))\n",
    "print(metrics.accuracy_score(y_test, y_pred))\n",
    "print(metrics.classification_report(y_test, y_pred))"
   ]
  },
  {
   "cell_type": "code",
   "execution_count": 14,
   "metadata": {
    "collapsed": true
   },
   "outputs": [],
   "source": [
    "y_score = model.predict_proba(X_test)[:,1]"
   ]
  },
  {
   "cell_type": "code",
   "execution_count": 15,
   "metadata": {},
   "outputs": [
    {
     "data": {
      "text/plain": [
       "0.87033333333333329"
      ]
     },
     "execution_count": 15,
     "metadata": {},
     "output_type": "execute_result"
    }
   ],
   "source": [
    "metrics.roc_auc_score(y_test, y_score)"
   ]
  },
  {
   "cell_type": "code",
   "execution_count": 16,
   "metadata": {
    "collapsed": true
   },
   "outputs": [],
   "source": [
    "fpr, tpr, thresholds = metrics.roc_curve(y_test, y_score)"
   ]
  },
  {
   "cell_type": "code",
   "execution_count": 17,
   "metadata": {},
   "outputs": [
    {
     "data": {
      "image/png": "[encoded data removed]",
      "text/plain": [
       "<matplotlib.figure.Figure at 0x2958beaca90>"
      ]
     },
     "metadata": {},
     "output_type": "display_data"
    }
   ],
   "source": [
    "roc_auc = metrics.auc(fpr, tpr)\n",
    "\n",
    "plt.figure()\n",
    "plt.plot(fpr, tpr, color='darkorange',\n",
    "         lw=2, label='ROC curve (area = %0.2f)' % roc_auc)\n",
    "plt.plot([0, 1], [0, 1], color='navy', lw=2, linestyle='--')\n",
    "plt.xlim([0.0, 1.0])\n",
    "plt.ylim([0.0, 1.05])\n",
    "plt.xlabel('False Positive Rate')\n",
    "plt.ylabel('True Positive Rate')\n",
    "plt.title('ROC Curve')\n",
    "plt.legend(loc=\"lower right\")\n",
    "plt.show()"
   ]
  },
  {
   "cell_type": "code",
   "execution_count": 18,
   "metadata": {
    "collapsed": true
   },
   "outputs": [],
   "source": [
    "# DOING THE METRICS LIBRARY AGAIN\n",
    "def confusion_matrix2(y_true, y_pred):\n",
    "    n_classes = len(np.unique(y_true))\n",
    "    m = [[0] * n_classes for i in range(n_classes)]\n",
    "    for pred, true in zip(y_pred, y_true):\n",
    "        m[int(true)][int(pred)] += 1\n",
    "    final_matrix = np.array(m) \n",
    "    return final_matrix\n",
    "\n",
    "def accuracy2(y_true, y_pred):\n",
    "    cm = confusion_matrix2(y_true, y_pred)\n",
    "    return np.sum(np.diagonal(cm)) / np.sum(cm)\n",
    "\n",
    "def precision2(y_true, y_pred):\n",
    "    cm = confusion_matrix2(y_true, y_pred)\n",
    "    l = []\n",
    "    n = len(cm)\n",
    "    for i in range(n):\n",
    "        soma = float(cm[i][i]) / float(np.sum(cm[:,i]))\n",
    "        l.append(soma)\n",
    "    return np.array(l)\n",
    "\n",
    "def recall2(y_true, y_pred):\n",
    "    cm = confusion_matrix2(y_true, y_pred)\n",
    "    l = []\n",
    "    n = len(cm)\n",
    "    for i in range(n):\n",
    "        soma = float(cm[i][i]) / float(np.sum(cm[i,:]))\n",
    "        l.append(soma)\n",
    "    return np.array(l)\n",
    "\n",
    "def f1_measure2(y_true, y_pred):\n",
    "    precision = precision2(y_true, y_pred)\n",
    "    recall = recall2(y_true, y_pred)\n",
    "    return 2 * (precision * recall) / (precision + recall)"
   ]
  },
  {
   "cell_type": "code",
   "execution_count": 22,
   "metadata": {
    "collapsed": true
   },
   "outputs": [],
   "source": [
    "# RESAMPLE LIBRARY AGAIN\n",
    "def split_stratified_train_test(y, perc_train = 0.7, seed = 0):\n",
    "    np.random.seed(seed)\n",
    "    classes, y_indices = np.unique(y, return_inverse=True)\n",
    "    n_classes = classes.shape[0]\n",
    "    class_count = np.bincount(y_indices)\n",
    "    class_indices = np.split(np.argsort(y_indices, kind='mergesort'), np.cumsum(class_count)[:-1])\n",
    "    \n",
    "    train = []\n",
    "    test = []\n",
    "    \n",
    "    for n, i in zip(class_count, class_indices):\n",
    "        n_t = np.int(np.round(n * perc_train))\n",
    "        np.random.shuffle(i)\n",
    "        train.extend(i[:n_t])\n",
    "        test.extend(i[n_t:])\n",
    "        \n",
    "    return np.array(train), np.array(test)"
   ]
  },
  {
   "cell_type": "code",
   "execution_count": 23,
   "metadata": {},
   "outputs": [
    {
     "name": "stdout",
     "output_type": "stream",
     "text": [
      "[[136  14]\n",
      " [ 34  46]]\n"
     ]
    }
   ],
   "source": [
    "print(confusion_matrix2(y_test, y_pred))"
   ]
  },
  {
   "cell_type": "code",
   "execution_count": 24,
   "metadata": {},
   "outputs": [
    {
     "name": "stdout",
     "output_type": "stream",
     "text": [
      "0.791304347826\n",
      "0.791304347826\n"
     ]
    }
   ],
   "source": [
    "print(metrics.accuracy_score(y_test, y_pred))\n",
    "print(accuracy2(y_test, y_pred))"
   ]
  },
  {
   "cell_type": "code",
   "execution_count": 25,
   "metadata": {},
   "outputs": [
    {
     "name": "stdout",
     "output_type": "stream",
     "text": [
      "             precision    recall  f1-score   support\n",
      "\n",
      "        0.0       0.80      0.91      0.85       150\n",
      "        1.0       0.77      0.57      0.66        80\n",
      "\n",
      "avg / total       0.79      0.79      0.78       230\n",
      "\n",
      "Precision:  [ 0.8         0.76666667]\n",
      "Recall:  [ 0.90666667  0.575     ]\n",
      "F1 Measure:  [ 0.85        0.65714286]\n"
     ]
    }
   ],
   "source": [
    "print(metrics.classification_report(y_test, y_pred))\n",
    "print('Precision: ', precision2(y_test, y_pred))\n",
    "print('Recall: ', recall2(y_test, y_pred))\n",
    "print('F1 Measure: ', f1_measure2(y_test, y_pred))"
   ]
  },
  {
   "cell_type": "code",
   "execution_count": 90,
   "metadata": {
    "collapsed": true
   },
   "outputs": [],
   "source": [
    "# METRICS ONE MORE TIME\n",
    "def confusion_matrix3(y_true, y_pred):\n",
    "    n_classes = len(np.unique(y_true))\n",
    "    m = [[0] * n_classes for i in range(n_classes)]\n",
    "    \n",
    "    for pred, true in zip(y_pred, y_true):\n",
    "        m[int(true)][int(pred)] += 1\n",
    "        \n",
    "    return np.array(m)\n",
    "\n",
    "def accuracy3(y_true, y_pred):\n",
    "    cm = confusion_matrix3(y_true, y_pred)\n",
    "    return np.sum(np.diagonal(cm)) / np.sum(cm)\n",
    "\n",
    "def precision3(y_true, y_pred):\n",
    "    cm = confusion_matrix3(y_true, y_pred)\n",
    "    l = []\n",
    "    n = len(cm)\n",
    "    for i in range(n):\n",
    "        soma = float(cm[i][i]) / float(np.sum(cm[:,i]))\n",
    "        l.append(soma)\n",
    "    return np.array(l)\n",
    "\n",
    "def recall3(y_true, y_pred):\n",
    "    cm = confusion_matrix3(y_test, y_pred)\n",
    "    l = []\n",
    "    n = len(cm)\n",
    "    \n",
    "    for i in range(n):\n",
    "        soma = float(cm[i][i]) / float(np.sum(cm[i,:]))\n",
    "        l.append(soma)\n",
    "    return np.array(l)\n",
    "\n",
    "def f1_measure3(y_true, y_pred):\n",
    "    precision = precision3(y_true, y_pred)\n",
    "    recall = recall3(y_true, y_pred)\n",
    "    return 2 * (precision * recall) / (precision + recall)"
   ]
  },
  {
   "cell_type": "code",
   "execution_count": 91,
   "metadata": {},
   "outputs": [
    {
     "name": "stdout",
     "output_type": "stream",
     "text": [
      "[[136  14]\n",
      " [ 34  46]]\n"
     ]
    }
   ],
   "source": [
    "print(confusion_matrix3(y_test, y_pred))"
   ]
  },
  {
   "cell_type": "code",
   "execution_count": 92,
   "metadata": {},
   "outputs": [
    {
     "name": "stdout",
     "output_type": "stream",
     "text": [
      "0.791304347826\n",
      "0.791304347826\n"
     ]
    }
   ],
   "source": [
    "print(metrics.accuracy_score(y_test, y_pred))\n",
    "print(accuracy3(y_test, y_pred))"
   ]
  },
  {
   "cell_type": "code",
   "execution_count": 93,
   "metadata": {},
   "outputs": [
    {
     "name": "stdout",
     "output_type": "stream",
     "text": [
      "             precision    recall  f1-score   support\n",
      "\n",
      "        0.0       0.80      0.91      0.85       150\n",
      "        1.0       0.77      0.57      0.66        80\n",
      "\n",
      "avg / total       0.79      0.79      0.78       230\n",
      "\n"
     ]
    }
   ],
   "source": [
    "print(metrics.classification_report(y_test, y_pred))"
   ]
  },
  {
   "cell_type": "code",
   "execution_count": 94,
   "metadata": {},
   "outputs": [
    {
     "name": "stdout",
     "output_type": "stream",
     "text": [
      "[ 0.8         0.76666667]\n",
      "[ 0.90666667  0.575     ]\n",
      "[ 0.85        0.65714286]\n"
     ]
    }
   ],
   "source": [
    "print(precision3(y_test, y_pred))\n",
    "print(recall3(y_test, y_pred))\n",
    "print(f1_measure3(y_test, y_pred))"
   ]
  },
  {
   "cell_type": "code",
   "execution_count": null,
   "metadata": {
    "collapsed": true
   },
   "outputs": [],
   "source": []
  }
 ],
 "metadata": {
  "kernelspec": {
   "display_name": "Python 3",
   "language": "python",
   "name": "python3"
  },
  "language_info": {
   "codemirror_mode": {
    "name": "ipython",
    "version": 3
   },
   "file_extension": ".py",
   "mimetype": "text/x-python",
   "name": "python",
   "nbconvert_exporter": "python",
   "pygments_lexer": "ipython3",
   "version": "3.6.1"
  }
 },
 "nbformat": 4,
 "nbformat_minor": 2
}
