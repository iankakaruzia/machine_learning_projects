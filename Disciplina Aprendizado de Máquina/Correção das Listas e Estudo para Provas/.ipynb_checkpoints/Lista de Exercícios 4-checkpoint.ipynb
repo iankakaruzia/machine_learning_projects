{
 "cells": [
  {
   "cell_type": "markdown",
   "metadata": {},
   "source": [
    "# Lista de Exercícios 4"
   ]
  },
  {
   "cell_type": "code",
   "execution_count": 50,
   "metadata": {
    "collapsed": true
   },
   "outputs": [],
   "source": [
    "%matplotlib inline\n",
    "import pandas as pd\n",
    "import numpy as np\n",
    "import seaborn as sns\n",
    "import matplotlib.pyplot as plt\n",
    "\n",
    "from sklearn import linear_model\n",
    "from sklearn import svm\n",
    "from sklearn import ensemble\n",
    "from sklearn import metrics\n",
    "from sklearn.preprocessing import StandardScaler"
   ]
  },
  {
   "cell_type": "code",
   "execution_count": 51,
   "metadata": {},
   "outputs": [],
   "source": [
    "# TRANSFORM LIBRARY\n",
    "def standardize(X):\n",
    "    X_std = np.copy(X)\n",
    "    n_cols = X.shape[1]\n",
    "    for i in range(n_cols):\n",
    "        X_std[:, i] = (X[:, i] - np.mean(X[:, i])) / np.std(X[:, i])\n",
    "    return X_std\n",
    "\n",
    "def normalize(X):\n",
    "    X_norm = np.copy(X)\n",
    "    n_cols = X.shape[1]\n",
    "    for i in range(n_cols):\n",
    "        X_norm[:, i] = (X[:, i] - np.min(X[:, i])) / (np.max(X[:, i]) - np.min(X[:, i]))\n",
    "    return X_norm"
   ]
  },
  {
   "cell_type": "code",
   "execution_count": 52,
   "metadata": {
    "collapsed": true
   },
   "outputs": [],
   "source": [
    "# RESAMPLE LIBRARY\n",
    "def split_k_fold(n_elem, n_splits=3, shuffle=True, seed = 0):\n",
    "    np.random.seed(seed)\n",
    "    \n",
    "    if(n_splits < 3):\n",
    "        return \"Valor de n_splits deve ser maior que 2\"\n",
    "    \n",
    "    a = [i for i in range(n_elem)]\n",
    "    \n",
    "    if shuffle:\n",
    "        np.random.shuffle(a)\n",
    "    \n",
    "    splits_size = int(n_elem/n_splits)\n",
    "    idx_train = list()\n",
    "    idx_test = list()\n",
    "    x = 0\n",
    "    \n",
    "    for i in range(n_splits):\n",
    "        a_copy = list(a)\n",
    "        fold = list()\n",
    "        while len(fold) < splits_size:\n",
    "            b = a_copy[x]\n",
    "            fold.append(b)\n",
    "            x = x+1\n",
    "        idx_test.append(fold)\n",
    "        for k in range (len(fold)):\n",
    "            a_copy.remove(fold[k])\n",
    "        idx_train.append(a_copy)\n",
    "        \n",
    "    return idx_train, idx_test"
   ]
  },
  {
   "cell_type": "code",
   "execution_count": 53,
   "metadata": {},
   "outputs": [],
   "source": [
    "data = pd.read_csv('winequality-red.csv', sep=';')"
   ]
  },
  {
   "cell_type": "code",
   "execution_count": 54,
   "metadata": {
    "collapsed": true
   },
   "outputs": [],
   "source": [
    "dataset = data.values"
   ]
  },
  {
   "cell_type": "code",
   "execution_count": 55,
   "metadata": {
    "collapsed": true
   },
   "outputs": [],
   "source": [
    "X = dataset[:,:11]\n",
    "y = dataset[:,11]"
   ]
  },
  {
   "cell_type": "code",
   "execution_count": 56,
   "metadata": {},
   "outputs": [],
   "source": [
    "n_elem = len(X)\n",
    "idx_train, idx_test = split_k_fold(n_elem,5)"
   ]
  },
  {
   "cell_type": "code",
   "execution_count": 57,
   "metadata": {},
   "outputs": [
    {
     "name": "stdout",
     "output_type": "stream",
     "text": [
      "Stochastic Gradient Descent: 0.429752420124\n"
     ]
    }
   ],
   "source": [
    "#SGD - Stochastic Gradient Descent\n",
    "sgd_model = linear_model.SGDRegressor()\n",
    "soma_sgd = 0\n",
    "for i in range(5):\n",
    "    std_scale = StandardScaler().fit(X[idx_train[i]])\n",
    "    X_train_std = std_scale.transform(X[idx_train[i]])\n",
    "    X_test_std = std_scale.transform(X[idx_test[i]])\n",
    "    sgd_model.fit(X_train_std, y[idx_train[i]])\n",
    "    y_pred = sgd_model.predict(X_test_std)\n",
    "    soma_sgd =  soma_sgd + metrics.mean_squared_error(y[idx_test[i]], y_pred)\n",
    "print('Stochastic Gradient Descent:', soma_sgd/5)"
   ]
  },
  {
   "cell_type": "code",
   "execution_count": 58,
   "metadata": {},
   "outputs": [
    {
     "name": "stdout",
     "output_type": "stream",
     "text": [
      "Linear Model: 0.428092382161\n"
     ]
    }
   ],
   "source": [
    "#Linear Model\n",
    "lr_model = linear_model.LinearRegression()\n",
    "soma_lr = 0\n",
    "for i in range(5):\n",
    "    lr_model.fit(X[idx_train[i]], y[idx_train[i]])\n",
    "    y_pred = lr_model.predict(X[idx_test[i]])\n",
    "    soma_lr =  soma_lr + metrics.mean_squared_error(y[idx_test[i]], y_pred)\n",
    "print('Linear Model:', soma_lr/5)"
   ]
  },
  {
   "cell_type": "code",
   "execution_count": 59,
   "metadata": {},
   "outputs": [
    {
     "name": "stdout",
     "output_type": "stream",
     "text": [
      "Linear SVR: 0.974792804696\n"
     ]
    }
   ],
   "source": [
    "#Linear SVR\n",
    "lsvr_model = svm.LinearSVR()\n",
    "soma_lsvr = 0\n",
    "for i in range(5):\n",
    "    lsvr_model.fit(X[idx_train[i]], y[idx_train[i]])\n",
    "    y_pred = lsvr_model.predict(X[idx_test[i]])\n",
    "    soma_lsvr =  soma_lsvr + metrics.mean_squared_error(y[idx_test[i]], y_pred)\n",
    "print('Linear SVR:', soma_lsvr/5)"
   ]
  },
  {
   "cell_type": "code",
   "execution_count": 60,
   "metadata": {},
   "outputs": [
    {
     "name": "stdout",
     "output_type": "stream",
     "text": [
      "SVR: 0.483420047196\n"
     ]
    }
   ],
   "source": [
    "#SVR\n",
    "svr_model = svm.SVR()\n",
    "soma_svr = 0\n",
    "for i in range(5):\n",
    "    svr_model.fit(X[idx_train[i]], y[idx_train[i]])\n",
    "    y_pred = svr_model.predict(X[idx_test[i]])\n",
    "    soma_svr =  soma_svr + metrics.mean_squared_error(y[idx_test[i]], y_pred)\n",
    "print('SVR:', soma_svr/5)"
   ]
  },
  {
   "cell_type": "code",
   "execution_count": 61,
   "metadata": {},
   "outputs": [
    {
     "name": "stdout",
     "output_type": "stream",
     "text": [
      "Random Forest Regressor: 0.365222570533\n"
     ]
    }
   ],
   "source": [
    "# Random Forest Regressor\n",
    "rfr_model = ensemble.RandomForestRegressor()\n",
    "soma_rfr = 0\n",
    "for i in range(5):\n",
    "    rfr_model.fit(X[idx_train[i]], y[idx_train[i]])\n",
    "    y_pred = rfr_model.predict(X[idx_test[i]])\n",
    "    soma_rfr =  soma_rfr + metrics.mean_squared_error(y[idx_test[i]], y_pred)\n",
    "print('Random Forest Regressor:', soma_rfr/5)"
   ]
  },
  {
   "cell_type": "code",
   "execution_count": 62,
   "metadata": {},
   "outputs": [
    {
     "name": "stdout",
     "output_type": "stream",
     "text": [
      "Gradient Boosting Regressor: 0.384073992634\n"
     ]
    }
   ],
   "source": [
    "# Gradient Boosting Regressor\n",
    "gbr_model = ensemble.GradientBoostingRegressor()\n",
    "soma_gbr = 0\n",
    "for i in range(5):\n",
    "    gbr_model.fit(X[idx_train[i]], y[idx_train[i]])\n",
    "    y_pred = gbr_model.predict(X[idx_test[i]])\n",
    "    soma_gbr =  soma_gbr + metrics.mean_squared_error(y[idx_test[i]], y_pred)\n",
    "print('Gradient Boosting Regressor:', soma_gbr/5)"
   ]
  },
  {
   "cell_type": "markdown",
   "metadata": {},
   "source": [
    "#### Gráfico com a Média dos MSE dos modelos "
   ]
  },
  {
   "cell_type": "code",
   "execution_count": 65,
   "metadata": {},
   "outputs": [
    {
     "data": {
      "image/png": "[encoded data removed]",
      "text/plain": [
       "<matplotlib.figure.Figure at 0x1fabf9ad320>"
      ]
     },
     "metadata": {},
     "output_type": "display_data"
    }
   ],
   "source": [
    "class_names = ['SGD','LR','LSVR','SVR','RFR','GBR']\n",
    "class_ = [(soma_sgd/5), (soma_lr/5), (soma_lsvr/5), (soma_svr/5), (soma_rfr/5), (soma_gbr/5)]\n",
    "plt.grid()\n",
    "plt.bar(range(len(class_names)),class_)\n",
    "plt.xticks(range(len(class_names)), class_names);"
   ]
  },
  {
   "cell_type": "markdown",
   "metadata": {},
   "source": [
    "#### Modelo Final - Random Forest Regressor"
   ]
  },
  {
   "cell_type": "code",
   "execution_count": 66,
   "metadata": {},
   "outputs": [
    {
     "data": {
      "text/plain": [
       "RandomForestRegressor(bootstrap=True, criterion='mse', max_depth=None,\n",
       "           max_features='auto', max_leaf_nodes=None,\n",
       "           min_impurity_split=1e-07, min_samples_leaf=1,\n",
       "           min_samples_split=2, min_weight_fraction_leaf=0.0,\n",
       "           n_estimators=10, n_jobs=1, oob_score=False, random_state=None,\n",
       "           verbose=0, warm_start=False)"
      ]
     },
     "execution_count": 66,
     "metadata": {},
     "output_type": "execute_result"
    }
   ],
   "source": [
    "final_model = ensemble.RandomForestRegressor()\n",
    "final_model.fit(X,y)"
   ]
  },
  {
   "cell_type": "code",
   "execution_count": null,
   "metadata": {
    "collapsed": true
   },
   "outputs": [],
   "source": []
  }
 ],
 "metadata": {
  "kernelspec": {
   "display_name": "Python 3",
   "language": "python",
   "name": "python3"
  },
  "language_info": {
   "codemirror_mode": {
    "name": "ipython",
    "version": 3
   },
   "file_extension": ".py",
   "mimetype": "text/x-python",
   "name": "python",
   "nbconvert_exporter": "python",
   "pygments_lexer": "ipython3",
   "version": "3.6.1"
  }
 },
 "nbformat": 4,
 "nbformat_minor": 2
}
