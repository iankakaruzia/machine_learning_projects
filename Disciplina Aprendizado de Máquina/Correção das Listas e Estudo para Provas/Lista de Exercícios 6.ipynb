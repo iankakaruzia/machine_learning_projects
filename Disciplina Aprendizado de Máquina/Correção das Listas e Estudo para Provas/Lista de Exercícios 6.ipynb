{
 "cells": [
  {
   "cell_type": "markdown",
   "metadata": {},
   "source": [
    "# Lista de Exercícios 6"
   ]
  },
  {
   "cell_type": "code",
   "execution_count": 1,
   "metadata": {
    "collapsed": true
   },
   "outputs": [],
   "source": [
    "import pandas as pd\n",
    "import numpy as np\n",
    "from sklearn.neighbors import KNeighborsClassifier, KNeighborsRegressor\n",
    "from sklearn import metrics\n",
    "from sklearn.model_selection import KFold, StratifiedKFold"
   ]
  },
  {
   "cell_type": "code",
   "execution_count": 9,
   "metadata": {
    "collapsed": true
   },
   "outputs": [],
   "source": [
    "# DIST METRICS LIBRARY\n",
    "def minkowski_distance(X, row, p):\n",
    "    X_ = np.absolute(X - row) ** p\n",
    "    return np.sum(X_, axis=1) ** (1/p)\n",
    "\n",
    "def euclidean_distance(X, row):\n",
    "    return minkowski_distance(X, row, 2)\n",
    "\n",
    "def manhattan_distance(X, row):\n",
    "    return minkowski_distance(X, row, 1)\n",
    "\n",
    "def chebyshev_distance(X, row):\n",
    "    return np.max(np.absolute(X - row))"
   ]
  },
  {
   "cell_type": "code",
   "execution_count": 15,
   "metadata": {
    "collapsed": true
   },
   "outputs": [],
   "source": [
    "from scipy.spatial import distance"
   ]
  },
  {
   "cell_type": "code",
   "execution_count": 41,
   "metadata": {},
   "outputs": [],
   "source": [
    "columns = ['fixed acidity', 'volatile acidity', 'citric acid', 'residual sugar', 'chlorides', 'free sulfur dioxide', 'total sulfur dioxide', 'density', 'pH', 'sulphates', 'alcohol', 'quality']\n",
    "data = pd.read_csv('winequality-white.csv', names=columns)"
   ]
  },
  {
   "cell_type": "code",
   "execution_count": 42,
   "metadata": {
    "collapsed": true
   },
   "outputs": [],
   "source": [
    "dataset = data.values"
   ]
  },
  {
   "cell_type": "code",
   "execution_count": 43,
   "metadata": {
    "collapsed": true
   },
   "outputs": [],
   "source": [
    "X = dataset[:,:11]\n",
    "y = dataset[:,11]"
   ]
  },
  {
   "cell_type": "markdown",
   "metadata": {},
   "source": [
    "#### CLASSIFICAÇÃO"
   ]
  },
  {
   "cell_type": "code",
   "execution_count": 50,
   "metadata": {},
   "outputs": [
    {
     "name": "stdout",
     "output_type": "stream",
     "text": [
      "ACC for each Fold: 0.385085574572\n",
      "ACC for each Fold: 0.425597060625\n",
      "ACC for each Fold: 0.386740331492\n",
      "Mean ACC: 0.399140988896\n"
     ]
    }
   ],
   "source": [
    "# EUCLIDIANA\n",
    "kfold = StratifiedKFold(n_splits=3)\n",
    "acc_euclidiana = list()\n",
    "for train_index, test_index in kfold.split(X, y):\n",
    "    model = KNeighborsClassifier(p=2, n_jobs=-1)\n",
    "    model.fit(X[train_index], y[train_index])\n",
    "    y_pred = model.predict(X[test_index])\n",
    "    acc_euclidiana.append(metrics.accuracy_score(y[test_index], y_pred))\n",
    "    print('ACC for each Fold:', metrics.accuracy_score(y[test_index], y_pred))\n",
    "print('Mean ACC:', np.mean(acc_euclidiana))"
   ]
  },
  {
   "cell_type": "code",
   "execution_count": 54,
   "metadata": {},
   "outputs": [
    {
     "name": "stdout",
     "output_type": "stream",
     "text": [
      "ACC for each Fold: 0.39119804401\n",
      "ACC for each Fold: 0.434782608696\n",
      "ACC for each Fold: 0.403928790669\n",
      "Mean ACC: 0.409969814458\n"
     ]
    }
   ],
   "source": [
    "# MANHATTAN\n",
    "kfold = StratifiedKFold(n_splits=3)\n",
    "acc_manhattan = list()\n",
    "for train_index, test_index in kfold.split(X, y):\n",
    "    model = KNeighborsClassifier(p=1, n_jobs=-1)\n",
    "    model.fit(X[train_index], y[train_index])\n",
    "    y_pred = model.predict(X[test_index])\n",
    "    acc_manhattan.append(metrics.accuracy_score(y[test_index], y_pred))\n",
    "    print('ACC for each Fold:', metrics.accuracy_score(y[test_index], y_pred))\n",
    "print('Mean ACC:', np.mean(acc_manhattan))"
   ]
  },
  {
   "cell_type": "markdown",
   "metadata": {},
   "source": [
    "#### REGRESSÃO"
   ]
  },
  {
   "cell_type": "code",
   "execution_count": 58,
   "metadata": {},
   "outputs": [
    {
     "ename": "ValueError",
     "evalue": "operands could not be broadcast together with shapes (3918,11) (3918,) ",
     "output_type": "error",
     "traceback": [
      "\u001b[1;31m---------------------------------------------------------------------------\u001b[0m",
      "\u001b[1;31mValueError\u001b[0m                                Traceback (most recent call last)",
      "\u001b[1;32m<ipython-input-58-e124812b50e5>\u001b[0m in \u001b[0;36m<module>\u001b[1;34m()\u001b[0m\n\u001b[0;32m      7\u001b[0m     \u001b[0my_pred\u001b[0m \u001b[1;33m=\u001b[0m \u001b[0mmodel\u001b[0m\u001b[1;33m.\u001b[0m\u001b[0mpredict\u001b[0m\u001b[1;33m(\u001b[0m\u001b[0mX\u001b[0m\u001b[1;33m[\u001b[0m\u001b[0mtest_index\u001b[0m\u001b[1;33m]\u001b[0m\u001b[1;33m)\u001b[0m\u001b[1;33m\u001b[0m\u001b[0m\n\u001b[0;32m      8\u001b[0m     \u001b[0mmse_euclidiana\u001b[0m\u001b[1;33m.\u001b[0m\u001b[0mappend\u001b[0m\u001b[1;33m(\u001b[0m\u001b[0mmetrics\u001b[0m\u001b[1;33m.\u001b[0m\u001b[0mmean_squared_error\u001b[0m\u001b[1;33m(\u001b[0m\u001b[0my\u001b[0m\u001b[1;33m[\u001b[0m\u001b[0mtest_index\u001b[0m\u001b[1;33m]\u001b[0m\u001b[1;33m,\u001b[0m \u001b[0my_pred\u001b[0m\u001b[1;33m)\u001b[0m\u001b[1;33m)\u001b[0m\u001b[1;33m\u001b[0m\u001b[0m\n\u001b[1;32m----> 9\u001b[1;33m     \u001b[0mprint\u001b[0m\u001b[1;33m(\u001b[0m\u001b[0mminkowski_distance\u001b[0m\u001b[1;33m(\u001b[0m\u001b[0mX\u001b[0m\u001b[1;33m[\u001b[0m\u001b[0mtrain_index\u001b[0m\u001b[1;33m]\u001b[0m\u001b[1;33m,\u001b[0m \u001b[0my\u001b[0m\u001b[1;33m[\u001b[0m\u001b[0mtrain_index\u001b[0m\u001b[1;33m]\u001b[0m\u001b[1;33m,\u001b[0m\u001b[1;36m2\u001b[0m\u001b[1;33m)\u001b[0m\u001b[1;33m)\u001b[0m\u001b[1;33m\u001b[0m\u001b[0m\n\u001b[0m\u001b[0;32m     10\u001b[0m     \u001b[0mprint\u001b[0m\u001b[1;33m(\u001b[0m\u001b[1;34m'MSE for each Fold:'\u001b[0m\u001b[1;33m,\u001b[0m \u001b[0mmetrics\u001b[0m\u001b[1;33m.\u001b[0m\u001b[0mmean_squared_error\u001b[0m\u001b[1;33m(\u001b[0m\u001b[0my\u001b[0m\u001b[1;33m[\u001b[0m\u001b[0mtest_index\u001b[0m\u001b[1;33m]\u001b[0m\u001b[1;33m,\u001b[0m \u001b[0my_pred\u001b[0m\u001b[1;33m)\u001b[0m\u001b[1;33m)\u001b[0m\u001b[1;33m\u001b[0m\u001b[0m\n\u001b[0;32m     11\u001b[0m \u001b[0mprint\u001b[0m\u001b[1;33m(\u001b[0m\u001b[1;34m'Mean MSE:'\u001b[0m\u001b[1;33m,\u001b[0m \u001b[0mnp\u001b[0m\u001b[1;33m.\u001b[0m\u001b[0mmean\u001b[0m\u001b[1;33m(\u001b[0m\u001b[0mmse_euclidiana\u001b[0m\u001b[1;33m)\u001b[0m\u001b[1;33m)\u001b[0m\u001b[1;33m\u001b[0m\u001b[0m\n",
      "\u001b[1;32m<ipython-input-9-87b48f2b2851>\u001b[0m in \u001b[0;36mminkowski_distance\u001b[1;34m(X, row, p)\u001b[0m\n\u001b[0;32m      1\u001b[0m \u001b[1;31m# DIST METRICS LIBRARY\u001b[0m\u001b[1;33m\u001b[0m\u001b[1;33m\u001b[0m\u001b[0m\n\u001b[0;32m      2\u001b[0m \u001b[1;32mdef\u001b[0m \u001b[0mminkowski_distance\u001b[0m\u001b[1;33m(\u001b[0m\u001b[0mX\u001b[0m\u001b[1;33m,\u001b[0m \u001b[0mrow\u001b[0m\u001b[1;33m,\u001b[0m \u001b[0mp\u001b[0m\u001b[1;33m)\u001b[0m\u001b[1;33m:\u001b[0m\u001b[1;33m\u001b[0m\u001b[0m\n\u001b[1;32m----> 3\u001b[1;33m     \u001b[0mX_\u001b[0m \u001b[1;33m=\u001b[0m \u001b[0mnp\u001b[0m\u001b[1;33m.\u001b[0m\u001b[0mabsolute\u001b[0m\u001b[1;33m(\u001b[0m\u001b[0mX\u001b[0m \u001b[1;33m-\u001b[0m \u001b[0mrow\u001b[0m\u001b[1;33m)\u001b[0m \u001b[1;33m**\u001b[0m \u001b[0mp\u001b[0m\u001b[1;33m\u001b[0m\u001b[0m\n\u001b[0m\u001b[0;32m      4\u001b[0m     \u001b[1;32mreturn\u001b[0m \u001b[0mnp\u001b[0m\u001b[1;33m.\u001b[0m\u001b[0msum\u001b[0m\u001b[1;33m(\u001b[0m\u001b[0mX_\u001b[0m\u001b[1;33m,\u001b[0m \u001b[0maxis\u001b[0m\u001b[1;33m=\u001b[0m\u001b[1;36m1\u001b[0m\u001b[1;33m)\u001b[0m \u001b[1;33m**\u001b[0m \u001b[1;33m(\u001b[0m\u001b[1;36m1\u001b[0m\u001b[1;33m/\u001b[0m\u001b[0mp\u001b[0m\u001b[1;33m)\u001b[0m\u001b[1;33m\u001b[0m\u001b[0m\n\u001b[0;32m      5\u001b[0m \u001b[1;33m\u001b[0m\u001b[0m\n",
      "\u001b[1;31mValueError\u001b[0m: operands could not be broadcast together with shapes (3918,11) (3918,) "
     ]
    }
   ],
   "source": [
    "# EUCLIDIANA\n",
    "kfold = KFold(n_splits=5)\n",
    "mse_euclidiana = list()\n",
    "for train_index, test_index in kfold.split(X, y):\n",
    "    model = KNeighborsRegressor(p=2, n_jobs=-1)\n",
    "    model.fit(X[train_index], y[train_index])\n",
    "    y_pred = model.predict(X[test_index])\n",
    "    mse_euclidiana.append(metrics.mean_squared_error(y[test_index], y_pred))\n",
    "    print('MSE for each Fold:', metrics.mean_squared_error(y[test_index], y_pred))\n",
    "print('Mean MSE:', np.mean(mse_euclidiana))"
   ]
  },
  {
   "cell_type": "code",
   "execution_count": 57,
   "metadata": {},
   "outputs": [
    {
     "name": "stdout",
     "output_type": "stream",
     "text": [
      "MSE for each Fold: 0.841673469388\n",
      "MSE for each Fold: 0.857551020408\n",
      "MSE for each Fold: 0.740530612245\n",
      "MSE for each Fold: 0.761552604699\n",
      "MSE for each Fold: 0.664514811032\n",
      "Mean MSE: 0.773164503554\n"
     ]
    }
   ],
   "source": [
    "# MANHATTAN\n",
    "kfold = KFold(n_splits=5)\n",
    "mse_manhattan = list()\n",
    "for train_index, test_index in kfold.split(X, y):\n",
    "    model = KNeighborsRegressor(p=1, n_jobs=-1)\n",
    "    model.fit(X[train_index], y[train_index])\n",
    "    y_pred = model.predict(X[test_index])\n",
    "    mse_manhattan.append(metrics.mean_squared_error(y[test_index], y_pred))\n",
    "    print('MSE for each Fold:', metrics.mean_squared_error(y[test_index], y_pred))\n",
    "print('Mean MSE:', np.mean(mse_manhattan))"
   ]
  },
  {
   "cell_type": "code",
   "execution_count": null,
   "metadata": {
    "collapsed": true
   },
   "outputs": [],
   "source": []
  }
 ],
 "metadata": {
  "kernelspec": {
   "display_name": "Python 3",
   "language": "python",
   "name": "python3"
  },
  "language_info": {
   "codemirror_mode": {
    "name": "ipython",
    "version": 3
   },
   "file_extension": ".py",
   "mimetype": "text/x-python",
   "name": "python",
   "nbconvert_exporter": "python",
   "pygments_lexer": "ipython3",
   "version": "3.6.1"
  }
 },
 "nbformat": 4,
 "nbformat_minor": 2
}
