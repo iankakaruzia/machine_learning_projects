{
 "cells": [
  {
   "cell_type": "markdown",
   "metadata": {},
   "source": [
    "# Lista de Exercícios 6\n",
    "Ianka Karúzia Rabelo de Oliveira"
   ]
  },
  {
   "cell_type": "code",
   "execution_count": 3,
   "metadata": {},
   "outputs": [],
   "source": [
    "from libs import dist_metrics, knn\n",
    "import pandas as pd\n",
    "import numpy as np"
   ]
  },
  {
   "cell_type": "code",
   "execution_count": 4,
   "metadata": {
    "collapsed": true
   },
   "outputs": [],
   "source": [
    "columns = ['fixed acidity', 'volatile acidity', 'citric acid', 'residual sugar', 'chlorides', 'free sulfur dioxide', 'total sulfur dioxide', 'density', 'pH', 'sulphates', 'alcohol', 'quality']\n",
    "data = pd.read_csv('winequality-white.csv', names=columns)"
   ]
  },
  {
   "cell_type": "code",
   "execution_count": 5,
   "metadata": {},
   "outputs": [
    {
     "data": {
      "text/html": [
       "<div>\n",
       "<style>\n",
       "    .dataframe thead tr:only-child th {\n",
       "        text-align: right;\n",
       "    }\n",
       "\n",
       "    .dataframe thead th {\n",
       "        text-align: left;\n",
       "    }\n",
       "\n",
       "    .dataframe tbody tr th {\n",
       "        vertical-align: top;\n",
       "    }\n",
       "</style>\n",
       "<table border=\"1\" class=\"dataframe\">\n",
       "  <thead>\n",
       "    <tr style=\"text-align: right;\">\n",
       "      <th></th>\n",
       "      <th>fixed acidity</th>\n",
       "      <th>volatile acidity</th>\n",
       "      <th>citric acid</th>\n",
       "      <th>residual sugar</th>\n",
       "      <th>chlorides</th>\n",
       "      <th>free sulfur dioxide</th>\n",
       "      <th>total sulfur dioxide</th>\n",
       "      <th>density</th>\n",
       "      <th>pH</th>\n",
       "      <th>sulphates</th>\n",
       "      <th>alcohol</th>\n",
       "      <th>quality</th>\n",
       "    </tr>\n",
       "  </thead>\n",
       "  <tbody>\n",
       "    <tr>\n",
       "      <th>0</th>\n",
       "      <td>7.0</td>\n",
       "      <td>0.27</td>\n",
       "      <td>0.36</td>\n",
       "      <td>20.7</td>\n",
       "      <td>0.045</td>\n",
       "      <td>45.0</td>\n",
       "      <td>170.0</td>\n",
       "      <td>1.0010</td>\n",
       "      <td>3.00</td>\n",
       "      <td>0.45</td>\n",
       "      <td>8.8</td>\n",
       "      <td>6</td>\n",
       "    </tr>\n",
       "    <tr>\n",
       "      <th>1</th>\n",
       "      <td>6.3</td>\n",
       "      <td>0.30</td>\n",
       "      <td>0.34</td>\n",
       "      <td>1.6</td>\n",
       "      <td>0.049</td>\n",
       "      <td>14.0</td>\n",
       "      <td>132.0</td>\n",
       "      <td>0.9940</td>\n",
       "      <td>3.30</td>\n",
       "      <td>0.49</td>\n",
       "      <td>9.5</td>\n",
       "      <td>6</td>\n",
       "    </tr>\n",
       "    <tr>\n",
       "      <th>2</th>\n",
       "      <td>8.1</td>\n",
       "      <td>0.28</td>\n",
       "      <td>0.40</td>\n",
       "      <td>6.9</td>\n",
       "      <td>0.050</td>\n",
       "      <td>30.0</td>\n",
       "      <td>97.0</td>\n",
       "      <td>0.9951</td>\n",
       "      <td>3.26</td>\n",
       "      <td>0.44</td>\n",
       "      <td>10.1</td>\n",
       "      <td>6</td>\n",
       "    </tr>\n",
       "    <tr>\n",
       "      <th>3</th>\n",
       "      <td>7.2</td>\n",
       "      <td>0.23</td>\n",
       "      <td>0.32</td>\n",
       "      <td>8.5</td>\n",
       "      <td>0.058</td>\n",
       "      <td>47.0</td>\n",
       "      <td>186.0</td>\n",
       "      <td>0.9956</td>\n",
       "      <td>3.19</td>\n",
       "      <td>0.40</td>\n",
       "      <td>9.9</td>\n",
       "      <td>6</td>\n",
       "    </tr>\n",
       "    <tr>\n",
       "      <th>4</th>\n",
       "      <td>7.2</td>\n",
       "      <td>0.23</td>\n",
       "      <td>0.32</td>\n",
       "      <td>8.5</td>\n",
       "      <td>0.058</td>\n",
       "      <td>47.0</td>\n",
       "      <td>186.0</td>\n",
       "      <td>0.9956</td>\n",
       "      <td>3.19</td>\n",
       "      <td>0.40</td>\n",
       "      <td>9.9</td>\n",
       "      <td>6</td>\n",
       "    </tr>\n",
       "  </tbody>\n",
       "</table>\n",
       "</div>"
      ],
      "text/plain": [
       "   fixed acidity  volatile acidity  citric acid  residual sugar  chlorides  \\\n",
       "0            7.0              0.27         0.36            20.7      0.045   \n",
       "1            6.3              0.30         0.34             1.6      0.049   \n",
       "2            8.1              0.28         0.40             6.9      0.050   \n",
       "3            7.2              0.23         0.32             8.5      0.058   \n",
       "4            7.2              0.23         0.32             8.5      0.058   \n",
       "\n",
       "   free sulfur dioxide  total sulfur dioxide  density    pH  sulphates  \\\n",
       "0                 45.0                 170.0   1.0010  3.00       0.45   \n",
       "1                 14.0                 132.0   0.9940  3.30       0.49   \n",
       "2                 30.0                  97.0   0.9951  3.26       0.44   \n",
       "3                 47.0                 186.0   0.9956  3.19       0.40   \n",
       "4                 47.0                 186.0   0.9956  3.19       0.40   \n",
       "\n",
       "   alcohol  quality  \n",
       "0      8.8        6  \n",
       "1      9.5        6  \n",
       "2     10.1        6  \n",
       "3      9.9        6  \n",
       "4      9.9        6  "
      ]
     },
     "execution_count": 5,
     "metadata": {},
     "output_type": "execute_result"
    }
   ],
   "source": [
    "data.head()"
   ]
  },
  {
   "cell_type": "code",
   "execution_count": 6,
   "metadata": {
    "collapsed": true
   },
   "outputs": [],
   "source": [
    "dataset = data.values"
   ]
  },
  {
   "cell_type": "code",
   "execution_count": 7,
   "metadata": {
    "collapsed": true
   },
   "outputs": [],
   "source": [
    "from sklearn.model_selection import StratifiedKFold, KFold"
   ]
  },
  {
   "cell_type": "code",
   "execution_count": 8,
   "metadata": {
    "collapsed": true
   },
   "outputs": [],
   "source": [
    "X = dataset[:,:11]\n",
    "y = dataset[:,11]"
   ]
  },
  {
   "cell_type": "markdown",
   "metadata": {},
   "source": [
    "### Train/Test Split for Classification"
   ]
  },
  {
   "cell_type": "code",
   "execution_count": 9,
   "metadata": {
    "collapsed": true
   },
   "outputs": [],
   "source": [
    "idx_train = list()\n",
    "idx_test = list()\n",
    "\n",
    "kfold = StratifiedKFold(n_splits=3)\n",
    "for train_index, test_index in kfold.split(X, y):\n",
    "    idx_train.append(train_index)\n",
    "    idx_test.append(test_index)"
   ]
  },
  {
   "cell_type": "code",
   "execution_count": 10,
   "metadata": {
    "collapsed": true
   },
   "outputs": [],
   "source": [
    "# Fold A\n",
    "X_trainA = X[idx_train[0]]\n",
    "y_trainA = y[idx_train[0]]\n",
    "X_testA = X[idx_test[0]]\n",
    "y_testA = y[idx_test[0]]\n",
    "# Fold B\n",
    "X_trainB = X[idx_train[1]]\n",
    "y_trainB = y[idx_train[1]]\n",
    "X_testB = X[idx_test[1]]\n",
    "y_testB = y[idx_test[1]]\n",
    "# Fold C\n",
    "X_trainC = X[idx_train[2]]\n",
    "y_trainC = y[idx_train[2]]\n",
    "X_testC = X[idx_test[2]]\n",
    "y_testC = y[idx_test[2]]"
   ]
  },
  {
   "cell_type": "markdown",
   "metadata": {},
   "source": [
    "### Manual KNN Classifier"
   ]
  },
  {
   "cell_type": "code",
   "execution_count": 11,
   "metadata": {
    "collapsed": true
   },
   "outputs": [],
   "source": [
    "modelA = knn.KNNClassifier()\n",
    "modelB = knn.KNNClassifier()\n",
    "modelC = knn.KNNClassifier()"
   ]
  },
  {
   "cell_type": "code",
   "execution_count": 12,
   "metadata": {},
   "outputs": [
    {
     "data": {
      "text/plain": [
       "array([3050,  740, 1536, 1544, 2668], dtype=int64)"
      ]
     },
     "execution_count": 12,
     "metadata": {},
     "output_type": "execute_result"
    }
   ],
   "source": [
    "modelA.fit(X_trainA, y_trainA)\n",
    "modelB.fit(X_trainB, y_trainB)\n",
    "modelC.fit(X_trainC, y_trainC)"
   ]
  },
  {
   "cell_type": "code",
   "execution_count": 13,
   "metadata": {
    "collapsed": true
   },
   "outputs": [],
   "source": [
    "predA = modelA.predict(X_testA)\n",
    "predB = modelB.predict(X_testB)\n",
    "predC = modelC.predict(X_testC)"
   ]
  },
  {
   "cell_type": "code",
   "execution_count": 14,
   "metadata": {
    "collapsed": true
   },
   "outputs": [],
   "source": [
    "from sklearn.metrics import accuracy_score, mean_squared_error"
   ]
  },
  {
   "cell_type": "markdown",
   "metadata": {},
   "source": [
    "### Sklearn KNN Classifier"
   ]
  },
  {
   "cell_type": "code",
   "execution_count": 15,
   "metadata": {
    "collapsed": true
   },
   "outputs": [],
   "source": [
    "from sklearn.neighbors import KNeighborsClassifier"
   ]
  },
  {
   "cell_type": "code",
   "execution_count": 16,
   "metadata": {
    "collapsed": true
   },
   "outputs": [],
   "source": [
    "modelSKA = KNeighborsClassifier()\n",
    "modelSKB = KNeighborsClassifier()\n",
    "modelSKC = KNeighborsClassifier()"
   ]
  },
  {
   "cell_type": "code",
   "execution_count": 17,
   "metadata": {},
   "outputs": [
    {
     "data": {
      "text/plain": [
       "KNeighborsClassifier(algorithm='auto', leaf_size=30, metric='minkowski',\n",
       "           metric_params=None, n_jobs=1, n_neighbors=5, p=2,\n",
       "           weights='uniform')"
      ]
     },
     "execution_count": 17,
     "metadata": {},
     "output_type": "execute_result"
    }
   ],
   "source": [
    "modelSKA.fit(X_trainA,y_trainA)\n",
    "modelSKB.fit(X_trainB,y_trainB)\n",
    "modelSKC.fit(X_trainC,y_trainC)"
   ]
  },
  {
   "cell_type": "code",
   "execution_count": 18,
   "metadata": {
    "collapsed": true
   },
   "outputs": [],
   "source": [
    "predictSKA = modelSKA.predict(X_testA)\n",
    "predictSKB = modelSKB.predict(X_testB)\n",
    "predictSKC = modelSKC.predict(X_testC)"
   ]
  },
  {
   "cell_type": "code",
   "execution_count": 19,
   "metadata": {},
   "outputs": [
    {
     "name": "stdout",
     "output_type": "stream",
     "text": [
      "Accuracy Fold A:  0.385085574572\n",
      "Accuracy Fold B:  0.425597060625\n",
      "Accuracy Fold C:  0.386740331492\n"
     ]
    }
   ],
   "source": [
    "print('Accuracy Fold A: ', accuracy_score(y_testA, predictSKA))\n",
    "print('Accuracy Fold B: ', accuracy_score(y_testB, predictSKB))\n",
    "print('Accuracy Fold C: ', accuracy_score(y_testC, predictSKC))"
   ]
  },
  {
   "cell_type": "markdown",
   "metadata": {},
   "source": [
    "### Train/Test Split for Regression"
   ]
  },
  {
   "cell_type": "code",
   "execution_count": 20,
   "metadata": {
    "collapsed": true
   },
   "outputs": [],
   "source": [
    "idx_train = list()\n",
    "idx_test = list()\n",
    "kfold = KFold(n_splits=5)\n",
    "for train_index, test_index in kfold.split(X, y):\n",
    "    idx_train.append(train_index)\n",
    "    idx_test.append(test_index)"
   ]
  },
  {
   "cell_type": "code",
   "execution_count": 21,
   "metadata": {
    "collapsed": true
   },
   "outputs": [],
   "source": [
    "# Fold A\n",
    "X_trainA = X[idx_train[0]]\n",
    "y_trainA = y[idx_train[0]]\n",
    "X_testA = X[idx_test[0]]\n",
    "y_testA = y[idx_test[0]]\n",
    "# Fold B\n",
    "X_trainB = X[idx_train[1]]\n",
    "y_trainB = y[idx_train[1]]\n",
    "X_testB = X[idx_test[1]]\n",
    "y_testB = y[idx_test[1]]\n",
    "# Fold C\n",
    "X_trainC = X[idx_train[2]]\n",
    "y_trainC = y[idx_train[2]]\n",
    "X_testC = X[idx_test[2]]\n",
    "y_testC = y[idx_test[2]]\n",
    "# Fold D\n",
    "X_trainD = X[idx_train[3]]\n",
    "y_trainD = y[idx_train[3]]\n",
    "X_testD = X[idx_test[3]]\n",
    "y_testD = y[idx_test[3]]\n",
    "# Fold E\n",
    "X_trainE = X[idx_train[4]]\n",
    "y_trainE = y[idx_train[4]]\n",
    "X_testE = X[idx_test[4]]\n",
    "y_testE = y[idx_test[4]]"
   ]
  },
  {
   "cell_type": "markdown",
   "metadata": {},
   "source": [
    "### Manual KNN Regressor"
   ]
  },
  {
   "cell_type": "code",
   "execution_count": 22,
   "metadata": {
    "collapsed": true
   },
   "outputs": [],
   "source": [
    "modelA = knn.KNNRegressor()\n",
    "modelB = knn.KNNRegressor()\n",
    "modelC = knn.KNNRegressor()\n",
    "modelD = knn.KNNRegressor()\n",
    "modelE = knn.KNNRegressor()"
   ]
  },
  {
   "cell_type": "code",
   "execution_count": 23,
   "metadata": {},
   "outputs": [
    {
     "data": {
      "text/plain": [
       "array([3710, 3095, 3094,  740, 3119], dtype=int64)"
      ]
     },
     "execution_count": 23,
     "metadata": {},
     "output_type": "execute_result"
    }
   ],
   "source": [
    "modelA.fit(X_trainA,y_trainA)\n",
    "modelB.fit(X_trainB,y_trainB)\n",
    "modelC.fit(X_trainC,y_trainC)\n",
    "modelD.fit(X_trainD,y_trainD)\n",
    "modelE.fit(X_trainE,y_trainE)"
   ]
  },
  {
   "cell_type": "code",
   "execution_count": 24,
   "metadata": {
    "collapsed": true
   },
   "outputs": [],
   "source": [
    "predA = modelA.predict(X_testA)\n",
    "predB = modelB.predict(X_testB)\n",
    "predC = modelC.predict(X_testC)\n",
    "predD = modelD.predict(X_testD)\n",
    "predE = modelE.predict(X_testE)"
   ]
  },
  {
   "cell_type": "markdown",
   "metadata": {},
   "source": [
    "### Sklearn KNN Regressor"
   ]
  },
  {
   "cell_type": "code",
   "execution_count": 25,
   "metadata": {
    "collapsed": true
   },
   "outputs": [],
   "source": [
    "from sklearn.neighbors import KNeighborsRegressor"
   ]
  },
  {
   "cell_type": "code",
   "execution_count": 26,
   "metadata": {
    "collapsed": true
   },
   "outputs": [],
   "source": [
    "modelSKA = KNeighborsRegressor()\n",
    "modelSKB = KNeighborsRegressor()\n",
    "modelSKC = KNeighborsRegressor()\n",
    "modelSKD = KNeighborsRegressor()\n",
    "modelSKE = KNeighborsRegressor()"
   ]
  },
  {
   "cell_type": "code",
   "execution_count": 27,
   "metadata": {},
   "outputs": [
    {
     "data": {
      "text/plain": [
       "KNeighborsRegressor(algorithm='auto', leaf_size=30, metric='minkowski',\n",
       "          metric_params=None, n_jobs=1, n_neighbors=5, p=2,\n",
       "          weights='uniform')"
      ]
     },
     "execution_count": 27,
     "metadata": {},
     "output_type": "execute_result"
    }
   ],
   "source": [
    "modelSKA.fit(X_trainA,y_trainA)\n",
    "modelSKB.fit(X_trainB,y_trainB)\n",
    "modelSKC.fit(X_trainC,y_trainC)\n",
    "modelSKD.fit(X_trainD,y_trainD)\n",
    "modelSKE.fit(X_trainE,y_trainE)"
   ]
  },
  {
   "cell_type": "code",
   "execution_count": 28,
   "metadata": {
    "collapsed": true
   },
   "outputs": [],
   "source": [
    "predictSKA = modelSKA.predict(X_testA)\n",
    "predictSKB = modelSKB.predict(X_testB)\n",
    "predictSKC = modelSKC.predict(X_testC)\n",
    "predictSKD = modelSKD.predict(X_testD)\n",
    "predictSKE = modelSKE.predict(X_testE)"
   ]
  },
  {
   "cell_type": "code",
   "execution_count": 29,
   "metadata": {},
   "outputs": [
    {
     "name": "stdout",
     "output_type": "stream",
     "text": [
      "Accuracy Fold A:  0.84493877551\n",
      "Accuracy Fold B:  0.892612244898\n",
      "Accuracy Fold C:  0.772244897959\n",
      "Accuracy Fold D:  0.764004085802\n",
      "Accuracy Fold E:  0.692257405516\n"
     ]
    }
   ],
   "source": [
    "print('Accuracy Fold A: ', mean_squared_error(y_testA, predictSKA))\n",
    "print('Accuracy Fold B: ', mean_squared_error(y_testB, predictSKB))\n",
    "print('Accuracy Fold C: ', mean_squared_error(y_testC, predictSKC))\n",
    "print('Accuracy Fold D: ', mean_squared_error(y_testD, predictSKD))\n",
    "print('Accuracy Fold E: ', mean_squared_error(y_testE, predictSKE))"
   ]
  },
  {
   "cell_type": "code",
   "execution_count": null,
   "metadata": {
    "collapsed": true
   },
   "outputs": [],
   "source": []
  }
 ],
 "metadata": {
  "kernelspec": {
   "display_name": "Python 3",
   "language": "python",
   "name": "python3"
  },
  "language_info": {
   "codemirror_mode": {
    "name": "ipython",
    "version": 3
   },
   "file_extension": ".py",
   "mimetype": "text/x-python",
   "name": "python",
   "nbconvert_exporter": "python",
   "pygments_lexer": "ipython3",
   "version": "3.6.1"
  }
 },
 "nbformat": 4,
 "nbformat_minor": 2
}
