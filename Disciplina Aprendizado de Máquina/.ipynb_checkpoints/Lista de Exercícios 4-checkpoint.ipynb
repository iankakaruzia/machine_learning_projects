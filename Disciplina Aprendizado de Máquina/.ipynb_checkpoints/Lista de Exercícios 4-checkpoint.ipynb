{
 "cells": [
  {
   "cell_type": "markdown",
   "metadata": {},
   "source": [
    "# Lista de Exercícios 4\n",
    "- Ianka Karúzia Rabelo de Oliveira - 365560"
   ]
  },
  {
   "cell_type": "code",
   "execution_count": 1,
   "metadata": {
    "collapsed": true
   },
   "outputs": [],
   "source": [
    "%matplotlib inline\n",
    "from libs import resample\n",
    "import importlib\n",
    "import pandas as pd\n",
    "import seaborn as sns\n",
    "import matplotlib.pyplot as plt\n",
    "\n",
    "from sklearn import linear_model\n",
    "from sklearn import svm\n",
    "from sklearn import ensemble\n",
    "from sklearn import metrics"
   ]
  },
  {
   "cell_type": "code",
   "execution_count": 2,
   "metadata": {},
   "outputs": [
    {
     "data": {
      "text/plain": [
       "<module 'libs.resample' from 'C:\\\\Users\\\\Ianka\\\\Dropbox\\\\Aprendizado de Máquina\\\\libs\\\\resample.py'>"
      ]
     },
     "execution_count": 2,
     "metadata": {},
     "output_type": "execute_result"
    }
   ],
   "source": [
    "importlib.reload(resample)"
   ]
  },
  {
   "cell_type": "code",
   "execution_count": 3,
   "metadata": {
    "collapsed": true
   },
   "outputs": [],
   "source": [
    "data = pd.read_csv('winequality-red.csv', sep=';')"
   ]
  },
  {
   "cell_type": "code",
   "execution_count": 4,
   "metadata": {},
   "outputs": [
    {
     "data": {
      "text/html": [
       "<div>\n",
       "<style>\n",
       "    .dataframe thead tr:only-child th {\n",
       "        text-align: right;\n",
       "    }\n",
       "\n",
       "    .dataframe thead th {\n",
       "        text-align: left;\n",
       "    }\n",
       "\n",
       "    .dataframe tbody tr th {\n",
       "        vertical-align: top;\n",
       "    }\n",
       "</style>\n",
       "<table border=\"1\" class=\"dataframe\">\n",
       "  <thead>\n",
       "    <tr style=\"text-align: right;\">\n",
       "      <th></th>\n",
       "      <th>fixed acidity</th>\n",
       "      <th>volatile acidity</th>\n",
       "      <th>citric acid</th>\n",
       "      <th>residual sugar</th>\n",
       "      <th>chlorides</th>\n",
       "      <th>free sulfur dioxide</th>\n",
       "      <th>total sulfur dioxide</th>\n",
       "      <th>density</th>\n",
       "      <th>pH</th>\n",
       "      <th>sulphates</th>\n",
       "      <th>alcohol</th>\n",
       "      <th>quality</th>\n",
       "    </tr>\n",
       "  </thead>\n",
       "  <tbody>\n",
       "    <tr>\n",
       "      <th>0</th>\n",
       "      <td>7.4</td>\n",
       "      <td>0.70</td>\n",
       "      <td>0.00</td>\n",
       "      <td>1.9</td>\n",
       "      <td>0.076</td>\n",
       "      <td>11.0</td>\n",
       "      <td>34.0</td>\n",
       "      <td>0.9978</td>\n",
       "      <td>3.51</td>\n",
       "      <td>0.56</td>\n",
       "      <td>9.4</td>\n",
       "      <td>5</td>\n",
       "    </tr>\n",
       "    <tr>\n",
       "      <th>1</th>\n",
       "      <td>7.8</td>\n",
       "      <td>0.88</td>\n",
       "      <td>0.00</td>\n",
       "      <td>2.6</td>\n",
       "      <td>0.098</td>\n",
       "      <td>25.0</td>\n",
       "      <td>67.0</td>\n",
       "      <td>0.9968</td>\n",
       "      <td>3.20</td>\n",
       "      <td>0.68</td>\n",
       "      <td>9.8</td>\n",
       "      <td>5</td>\n",
       "    </tr>\n",
       "    <tr>\n",
       "      <th>2</th>\n",
       "      <td>7.8</td>\n",
       "      <td>0.76</td>\n",
       "      <td>0.04</td>\n",
       "      <td>2.3</td>\n",
       "      <td>0.092</td>\n",
       "      <td>15.0</td>\n",
       "      <td>54.0</td>\n",
       "      <td>0.9970</td>\n",
       "      <td>3.26</td>\n",
       "      <td>0.65</td>\n",
       "      <td>9.8</td>\n",
       "      <td>5</td>\n",
       "    </tr>\n",
       "    <tr>\n",
       "      <th>3</th>\n",
       "      <td>11.2</td>\n",
       "      <td>0.28</td>\n",
       "      <td>0.56</td>\n",
       "      <td>1.9</td>\n",
       "      <td>0.075</td>\n",
       "      <td>17.0</td>\n",
       "      <td>60.0</td>\n",
       "      <td>0.9980</td>\n",
       "      <td>3.16</td>\n",
       "      <td>0.58</td>\n",
       "      <td>9.8</td>\n",
       "      <td>6</td>\n",
       "    </tr>\n",
       "    <tr>\n",
       "      <th>4</th>\n",
       "      <td>7.4</td>\n",
       "      <td>0.70</td>\n",
       "      <td>0.00</td>\n",
       "      <td>1.9</td>\n",
       "      <td>0.076</td>\n",
       "      <td>11.0</td>\n",
       "      <td>34.0</td>\n",
       "      <td>0.9978</td>\n",
       "      <td>3.51</td>\n",
       "      <td>0.56</td>\n",
       "      <td>9.4</td>\n",
       "      <td>5</td>\n",
       "    </tr>\n",
       "  </tbody>\n",
       "</table>\n",
       "</div>"
      ],
      "text/plain": [
       "   fixed acidity  volatile acidity  citric acid  residual sugar  chlorides  \\\n",
       "0            7.4              0.70         0.00             1.9      0.076   \n",
       "1            7.8              0.88         0.00             2.6      0.098   \n",
       "2            7.8              0.76         0.04             2.3      0.092   \n",
       "3           11.2              0.28         0.56             1.9      0.075   \n",
       "4            7.4              0.70         0.00             1.9      0.076   \n",
       "\n",
       "   free sulfur dioxide  total sulfur dioxide  density    pH  sulphates  \\\n",
       "0                 11.0                  34.0   0.9978  3.51       0.56   \n",
       "1                 25.0                  67.0   0.9968  3.20       0.68   \n",
       "2                 15.0                  54.0   0.9970  3.26       0.65   \n",
       "3                 17.0                  60.0   0.9980  3.16       0.58   \n",
       "4                 11.0                  34.0   0.9978  3.51       0.56   \n",
       "\n",
       "   alcohol  quality  \n",
       "0      9.4        5  \n",
       "1      9.8        5  \n",
       "2      9.8        5  \n",
       "3      9.8        6  \n",
       "4      9.4        5  "
      ]
     },
     "execution_count": 4,
     "metadata": {},
     "output_type": "execute_result"
    }
   ],
   "source": [
    "data.head()"
   ]
  },
  {
   "cell_type": "code",
   "execution_count": 5,
   "metadata": {},
   "outputs": [
    {
     "data": {
      "text/html": [
       "<div>\n",
       "<style>\n",
       "    .dataframe thead tr:only-child th {\n",
       "        text-align: right;\n",
       "    }\n",
       "\n",
       "    .dataframe thead th {\n",
       "        text-align: left;\n",
       "    }\n",
       "\n",
       "    .dataframe tbody tr th {\n",
       "        vertical-align: top;\n",
       "    }\n",
       "</style>\n",
       "<table border=\"1\" class=\"dataframe\">\n",
       "  <thead>\n",
       "    <tr style=\"text-align: right;\">\n",
       "      <th></th>\n",
       "      <th>fixed acidity</th>\n",
       "      <th>volatile acidity</th>\n",
       "      <th>citric acid</th>\n",
       "      <th>residual sugar</th>\n",
       "      <th>chlorides</th>\n",
       "      <th>free sulfur dioxide</th>\n",
       "      <th>total sulfur dioxide</th>\n",
       "      <th>density</th>\n",
       "      <th>pH</th>\n",
       "      <th>sulphates</th>\n",
       "      <th>alcohol</th>\n",
       "      <th>quality</th>\n",
       "    </tr>\n",
       "  </thead>\n",
       "  <tbody>\n",
       "    <tr>\n",
       "      <th>count</th>\n",
       "      <td>1599.000000</td>\n",
       "      <td>1599.000000</td>\n",
       "      <td>1599.000000</td>\n",
       "      <td>1599.000000</td>\n",
       "      <td>1599.000000</td>\n",
       "      <td>1599.000000</td>\n",
       "      <td>1599.000000</td>\n",
       "      <td>1599.000000</td>\n",
       "      <td>1599.000000</td>\n",
       "      <td>1599.000000</td>\n",
       "      <td>1599.000000</td>\n",
       "      <td>1599.000000</td>\n",
       "    </tr>\n",
       "    <tr>\n",
       "      <th>mean</th>\n",
       "      <td>8.319637</td>\n",
       "      <td>0.527821</td>\n",
       "      <td>0.270976</td>\n",
       "      <td>2.538806</td>\n",
       "      <td>0.087467</td>\n",
       "      <td>15.874922</td>\n",
       "      <td>46.467792</td>\n",
       "      <td>0.996747</td>\n",
       "      <td>3.311113</td>\n",
       "      <td>0.658149</td>\n",
       "      <td>10.422983</td>\n",
       "      <td>5.636023</td>\n",
       "    </tr>\n",
       "    <tr>\n",
       "      <th>std</th>\n",
       "      <td>1.741096</td>\n",
       "      <td>0.179060</td>\n",
       "      <td>0.194801</td>\n",
       "      <td>1.409928</td>\n",
       "      <td>0.047065</td>\n",
       "      <td>10.460157</td>\n",
       "      <td>32.895324</td>\n",
       "      <td>0.001887</td>\n",
       "      <td>0.154386</td>\n",
       "      <td>0.169507</td>\n",
       "      <td>1.065668</td>\n",
       "      <td>0.807569</td>\n",
       "    </tr>\n",
       "    <tr>\n",
       "      <th>min</th>\n",
       "      <td>4.600000</td>\n",
       "      <td>0.120000</td>\n",
       "      <td>0.000000</td>\n",
       "      <td>0.900000</td>\n",
       "      <td>0.012000</td>\n",
       "      <td>1.000000</td>\n",
       "      <td>6.000000</td>\n",
       "      <td>0.990070</td>\n",
       "      <td>2.740000</td>\n",
       "      <td>0.330000</td>\n",
       "      <td>8.400000</td>\n",
       "      <td>3.000000</td>\n",
       "    </tr>\n",
       "    <tr>\n",
       "      <th>25%</th>\n",
       "      <td>7.100000</td>\n",
       "      <td>0.390000</td>\n",
       "      <td>0.090000</td>\n",
       "      <td>1.900000</td>\n",
       "      <td>0.070000</td>\n",
       "      <td>7.000000</td>\n",
       "      <td>22.000000</td>\n",
       "      <td>0.995600</td>\n",
       "      <td>3.210000</td>\n",
       "      <td>0.550000</td>\n",
       "      <td>9.500000</td>\n",
       "      <td>5.000000</td>\n",
       "    </tr>\n",
       "    <tr>\n",
       "      <th>50%</th>\n",
       "      <td>7.900000</td>\n",
       "      <td>0.520000</td>\n",
       "      <td>0.260000</td>\n",
       "      <td>2.200000</td>\n",
       "      <td>0.079000</td>\n",
       "      <td>14.000000</td>\n",
       "      <td>38.000000</td>\n",
       "      <td>0.996750</td>\n",
       "      <td>3.310000</td>\n",
       "      <td>0.620000</td>\n",
       "      <td>10.200000</td>\n",
       "      <td>6.000000</td>\n",
       "    </tr>\n",
       "    <tr>\n",
       "      <th>75%</th>\n",
       "      <td>9.200000</td>\n",
       "      <td>0.640000</td>\n",
       "      <td>0.420000</td>\n",
       "      <td>2.600000</td>\n",
       "      <td>0.090000</td>\n",
       "      <td>21.000000</td>\n",
       "      <td>62.000000</td>\n",
       "      <td>0.997835</td>\n",
       "      <td>3.400000</td>\n",
       "      <td>0.730000</td>\n",
       "      <td>11.100000</td>\n",
       "      <td>6.000000</td>\n",
       "    </tr>\n",
       "    <tr>\n",
       "      <th>max</th>\n",
       "      <td>15.900000</td>\n",
       "      <td>1.580000</td>\n",
       "      <td>1.000000</td>\n",
       "      <td>15.500000</td>\n",
       "      <td>0.611000</td>\n",
       "      <td>72.000000</td>\n",
       "      <td>289.000000</td>\n",
       "      <td>1.003690</td>\n",
       "      <td>4.010000</td>\n",
       "      <td>2.000000</td>\n",
       "      <td>14.900000</td>\n",
       "      <td>8.000000</td>\n",
       "    </tr>\n",
       "  </tbody>\n",
       "</table>\n",
       "</div>"
      ],
      "text/plain": [
       "       fixed acidity  volatile acidity  citric acid  residual sugar  \\\n",
       "count    1599.000000       1599.000000  1599.000000     1599.000000   \n",
       "mean        8.319637          0.527821     0.270976        2.538806   \n",
       "std         1.741096          0.179060     0.194801        1.409928   \n",
       "min         4.600000          0.120000     0.000000        0.900000   \n",
       "25%         7.100000          0.390000     0.090000        1.900000   \n",
       "50%         7.900000          0.520000     0.260000        2.200000   \n",
       "75%         9.200000          0.640000     0.420000        2.600000   \n",
       "max        15.900000          1.580000     1.000000       15.500000   \n",
       "\n",
       "         chlorides  free sulfur dioxide  total sulfur dioxide      density  \\\n",
       "count  1599.000000          1599.000000           1599.000000  1599.000000   \n",
       "mean      0.087467            15.874922             46.467792     0.996747   \n",
       "std       0.047065            10.460157             32.895324     0.001887   \n",
       "min       0.012000             1.000000              6.000000     0.990070   \n",
       "25%       0.070000             7.000000             22.000000     0.995600   \n",
       "50%       0.079000            14.000000             38.000000     0.996750   \n",
       "75%       0.090000            21.000000             62.000000     0.997835   \n",
       "max       0.611000            72.000000            289.000000     1.003690   \n",
       "\n",
       "                pH    sulphates      alcohol      quality  \n",
       "count  1599.000000  1599.000000  1599.000000  1599.000000  \n",
       "mean      3.311113     0.658149    10.422983     5.636023  \n",
       "std       0.154386     0.169507     1.065668     0.807569  \n",
       "min       2.740000     0.330000     8.400000     3.000000  \n",
       "25%       3.210000     0.550000     9.500000     5.000000  \n",
       "50%       3.310000     0.620000    10.200000     6.000000  \n",
       "75%       3.400000     0.730000    11.100000     6.000000  \n",
       "max       4.010000     2.000000    14.900000     8.000000  "
      ]
     },
     "execution_count": 5,
     "metadata": {},
     "output_type": "execute_result"
    }
   ],
   "source": [
    "data.describe()"
   ]
  },
  {
   "cell_type": "code",
   "execution_count": 6,
   "metadata": {},
   "outputs": [
    {
     "data": {
      "text/plain": [
       "(1599, 12)"
      ]
     },
     "execution_count": 6,
     "metadata": {},
     "output_type": "execute_result"
    }
   ],
   "source": [
    "data.shape"
   ]
  },
  {
   "cell_type": "code",
   "execution_count": 7,
   "metadata": {},
   "outputs": [
    {
     "data": {
      "text/plain": [
       "<matplotlib.axes._subplots.AxesSubplot at 0x1c28baf98d0>"
      ]
     },
     "execution_count": 7,
     "metadata": {},
     "output_type": "execute_result"
    },
    {
     "data": {
      "image/png": "[encoded data removed]",
      "text/plain": [
       "<matplotlib.figure.Figure at 0x1c28baf9518>"
      ]
     },
     "metadata": {},
     "output_type": "display_data"
    }
   ],
   "source": [
    "sns.heatmap(data.isnull(), yticklabels=False, cbar=False, cmap='viridis')"
   ]
  },
  {
   "cell_type": "code",
   "execution_count": 8,
   "metadata": {
    "collapsed": true
   },
   "outputs": [],
   "source": [
    "dataset = data.values"
   ]
  },
  {
   "cell_type": "code",
   "execution_count": 9,
   "metadata": {},
   "outputs": [
    {
     "data": {
      "text/plain": [
       "array([[  7.4  ,   0.7  ,   0.   , ...,   0.56 ,   9.4  ,   5.   ],\n",
       "       [  7.8  ,   0.88 ,   0.   , ...,   0.68 ,   9.8  ,   5.   ],\n",
       "       [  7.8  ,   0.76 ,   0.04 , ...,   0.65 ,   9.8  ,   5.   ],\n",
       "       ..., \n",
       "       [  6.3  ,   0.51 ,   0.13 , ...,   0.75 ,  11.   ,   6.   ],\n",
       "       [  5.9  ,   0.645,   0.12 , ...,   0.71 ,  10.2  ,   5.   ],\n",
       "       [  6.   ,   0.31 ,   0.47 , ...,   0.66 ,  11.   ,   6.   ]])"
      ]
     },
     "execution_count": 9,
     "metadata": {},
     "output_type": "execute_result"
    }
   ],
   "source": [
    "dataset"
   ]
  },
  {
   "cell_type": "code",
   "execution_count": 10,
   "metadata": {
    "collapsed": true
   },
   "outputs": [],
   "source": [
    "X = dataset[:,:11]\n",
    "y = dataset[:,11]"
   ]
  },
  {
   "cell_type": "code",
   "execution_count": 11,
   "metadata": {},
   "outputs": [
    {
     "data": {
      "text/plain": [
       "(1599, 11)"
      ]
     },
     "execution_count": 11,
     "metadata": {},
     "output_type": "execute_result"
    }
   ],
   "source": [
    "X.shape"
   ]
  },
  {
   "cell_type": "code",
   "execution_count": 12,
   "metadata": {},
   "outputs": [
    {
     "data": {
      "text/plain": [
       "1599"
      ]
     },
     "execution_count": 12,
     "metadata": {},
     "output_type": "execute_result"
    }
   ],
   "source": [
    "n_elem = len(X)\n",
    "n_elem"
   ]
  },
  {
   "cell_type": "code",
   "execution_count": 13,
   "metadata": {
    "collapsed": true
   },
   "outputs": [],
   "source": [
    "idx_train, idx_test = resample.split_k_fold(n_elem,5)"
   ]
  },
  {
   "cell_type": "code",
   "execution_count": 14,
   "metadata": {
    "collapsed": true
   },
   "outputs": [],
   "source": [
    "# Train Indexes\n",
    "A_train = idx_train[0]\n",
    "B_train = idx_train[1]\n",
    "C_train = idx_train[2]\n",
    "D_train = idx_train[3]\n",
    "E_train = idx_train[4]"
   ]
  },
  {
   "cell_type": "code",
   "execution_count": 15,
   "metadata": {
    "collapsed": true
   },
   "outputs": [],
   "source": [
    "# Test Indexes\n",
    "A_test = idx_test[0]\n",
    "B_test = idx_test[1]\n",
    "C_test = idx_test[2]\n",
    "D_test = idx_test[3]\n",
    "E_test = idx_test[4]"
   ]
  },
  {
   "cell_type": "code",
   "execution_count": 16,
   "metadata": {
    "collapsed": true
   },
   "outputs": [],
   "source": [
    "# X Trainning Folds\n",
    "X_trainA = X[A_train]\n",
    "X_trainB = X[B_train]\n",
    "X_trainC = X[C_train]\n",
    "X_trainD = X[D_train]\n",
    "X_trainE = X[E_train]"
   ]
  },
  {
   "cell_type": "code",
   "execution_count": 17,
   "metadata": {
    "collapsed": true
   },
   "outputs": [],
   "source": [
    "# y Trainning Folds\n",
    "y_trainA = y[A_train]\n",
    "y_trainB = y[B_train]\n",
    "y_trainC = y[C_train]\n",
    "y_trainD = y[D_train]\n",
    "y_trainE = y[E_train]"
   ]
  },
  {
   "cell_type": "code",
   "execution_count": 18,
   "metadata": {
    "collapsed": true
   },
   "outputs": [],
   "source": [
    "# X Testing Folds\n",
    "X_testA = X[A_test]\n",
    "X_testB = X[B_test]\n",
    "X_testC = X[C_test]\n",
    "X_testD = X[D_test]\n",
    "X_testE = X[E_test]"
   ]
  },
  {
   "cell_type": "code",
   "execution_count": 19,
   "metadata": {
    "collapsed": true
   },
   "outputs": [],
   "source": [
    "# y Testing Folds\n",
    "y_testA = y[A_test]\n",
    "y_testB = y[B_test]\n",
    "y_testC = y[C_test]\n",
    "y_testD = y[D_test]\n",
    "y_testE = y[E_test]"
   ]
  },
  {
   "cell_type": "markdown",
   "metadata": {},
   "source": [
    "## Criação dos Modelos"
   ]
  },
  {
   "cell_type": "markdown",
   "metadata": {},
   "source": [
    "- Stochastic Gradient Descent Regressor"
   ]
  },
  {
   "cell_type": "code",
   "execution_count": 20,
   "metadata": {
    "collapsed": true
   },
   "outputs": [],
   "source": [
    "model_sgdrA = linear_model.SGDRegressor()\n",
    "model_sgdrB = linear_model.SGDRegressor()\n",
    "model_sgdrC = linear_model.SGDRegressor()\n",
    "model_sgdrD = linear_model.SGDRegressor()\n",
    "model_sgdrE = linear_model.SGDRegressor()"
   ]
  },
  {
   "cell_type": "code",
   "execution_count": 21,
   "metadata": {},
   "outputs": [
    {
     "data": {
      "text/plain": [
       "SGDRegressor(alpha=0.0001, average=False, epsilon=0.1, eta0=0.01,\n",
       "       fit_intercept=True, l1_ratio=0.15, learning_rate='invscaling',\n",
       "       loss='squared_loss', n_iter=5, penalty='l2', power_t=0.25,\n",
       "       random_state=None, shuffle=True, verbose=0, warm_start=False)"
      ]
     },
     "execution_count": 21,
     "metadata": {},
     "output_type": "execute_result"
    }
   ],
   "source": [
    "model_sgdrA.fit(X_trainA, y_trainA)\n",
    "model_sgdrB.fit(X_trainB, y_trainB)\n",
    "model_sgdrC.fit(X_trainC, y_trainC)\n",
    "model_sgdrD.fit(X_trainD, y_trainD)\n",
    "model_sgdrE.fit(X_trainE, y_trainE)"
   ]
  },
  {
   "cell_type": "code",
   "execution_count": 22,
   "metadata": {
    "collapsed": true
   },
   "outputs": [],
   "source": [
    "pred_sgdrA = model_sgdrA.predict(X_testA)\n",
    "pred_sgdrB = model_sgdrB.predict(X_testB)\n",
    "pred_sgdrC = model_sgdrC.predict(X_testC)\n",
    "pred_sgdrD = model_sgdrD.predict(X_testD)\n",
    "pred_sgdrE = model_sgdrE.predict(X_testE)"
   ]
  },
  {
   "cell_type": "code",
   "execution_count": 23,
   "metadata": {},
   "outputs": [
    {
     "name": "stdout",
     "output_type": "stream",
     "text": [
      "MSE Fold A:  8.73926878578e+24\n",
      "MSE Fold B:  5.31757307325e+24\n",
      "MSE Fold C:  6.36934165019e+23\n",
      "MSE Fold D:  7.12495210431e+24\n",
      "MSE Fold E:  3.43703528114e+25\n"
     ]
    }
   ],
   "source": [
    "print('MSE Fold A: ',metrics.mean_squared_error(y_testA, pred_sgdrA))\n",
    "print('MSE Fold B: ',metrics.mean_squared_error(y_testB, pred_sgdrB))\n",
    "print('MSE Fold C: ',metrics.mean_squared_error(y_testC, pred_sgdrC))\n",
    "print('MSE Fold D: ',metrics.mean_squared_error(y_testD, pred_sgdrD))\n",
    "print('MSE Fold E: ',metrics.mean_squared_error(y_testE, pred_sgdrE))"
   ]
  },
  {
   "cell_type": "markdown",
   "metadata": {},
   "source": [
    "- Linear Regression"
   ]
  },
  {
   "cell_type": "code",
   "execution_count": 24,
   "metadata": {
    "collapsed": true
   },
   "outputs": [],
   "source": [
    "model_lrA = linear_model.LinearRegression()\n",
    "model_lrB = linear_model.LinearRegression()\n",
    "model_lrC = linear_model.LinearRegression()\n",
    "model_lrD = linear_model.LinearRegression()\n",
    "model_lrE = linear_model.LinearRegression()"
   ]
  },
  {
   "cell_type": "code",
   "execution_count": 25,
   "metadata": {},
   "outputs": [
    {
     "data": {
      "text/plain": [
       "LinearRegression(copy_X=True, fit_intercept=True, n_jobs=1, normalize=False)"
      ]
     },
     "execution_count": 25,
     "metadata": {},
     "output_type": "execute_result"
    }
   ],
   "source": [
    "model_lrA.fit(X_trainA, y_trainA)\n",
    "model_lrB.fit(X_trainB, y_trainB)\n",
    "model_lrC.fit(X_trainC, y_trainC)\n",
    "model_lrD.fit(X_trainD, y_trainD)\n",
    "model_lrE.fit(X_trainE, y_trainE)"
   ]
  },
  {
   "cell_type": "code",
   "execution_count": 26,
   "metadata": {
    "collapsed": true
   },
   "outputs": [],
   "source": [
    "pred_lrA = model_lrA.predict(X_testA)\n",
    "pred_lrB = model_lrB.predict(X_testB)\n",
    "pred_lrC = model_lrC.predict(X_testC)\n",
    "pred_lrD = model_lrD.predict(X_testD)\n",
    "pred_lrE = model_lrE.predict(X_testE)"
   ]
  },
  {
   "cell_type": "code",
   "execution_count": 27,
   "metadata": {},
   "outputs": [
    {
     "name": "stdout",
     "output_type": "stream",
     "text": [
      "MSE Fold A:  0.385178216063\n",
      "MSE Fold B:  0.448450083929\n",
      "MSE Fold C:  0.489678530809\n",
      "MSE Fold D:  0.422100649699\n",
      "MSE Fold E:  0.395054430307\n"
     ]
    }
   ],
   "source": [
    "print('MSE Fold A: ',metrics.mean_squared_error(y_testA, pred_lrA))\n",
    "print('MSE Fold B: ',metrics.mean_squared_error(y_testB, pred_lrB))\n",
    "print('MSE Fold C: ',metrics.mean_squared_error(y_testC, pred_lrC))\n",
    "print('MSE Fold D: ',metrics.mean_squared_error(y_testD, pred_lrD))\n",
    "print('MSE Fold E: ',metrics.mean_squared_error(y_testE, pred_lrE))"
   ]
  },
  {
   "cell_type": "markdown",
   "metadata": {},
   "source": [
    "- Linear SVR"
   ]
  },
  {
   "cell_type": "code",
   "execution_count": 28,
   "metadata": {
    "collapsed": true
   },
   "outputs": [],
   "source": [
    "model_lsvrA = svm.LinearSVR()\n",
    "model_lsvrB = svm.LinearSVR()\n",
    "model_lsvrC = svm.LinearSVR()\n",
    "model_lsvrD = svm.LinearSVR()\n",
    "model_lsvrE = svm.LinearSVR()"
   ]
  },
  {
   "cell_type": "code",
   "execution_count": 29,
   "metadata": {},
   "outputs": [
    {
     "data": {
      "text/plain": [
       "LinearSVR(C=1.0, dual=True, epsilon=0.0, fit_intercept=True,\n",
       "     intercept_scaling=1.0, loss='epsilon_insensitive', max_iter=1000,\n",
       "     random_state=None, tol=0.0001, verbose=0)"
      ]
     },
     "execution_count": 29,
     "metadata": {},
     "output_type": "execute_result"
    }
   ],
   "source": [
    "model_lsvrA.fit(X_trainA, y_trainA)\n",
    "model_lsvrB.fit(X_trainB, y_trainB)\n",
    "model_lsvrC.fit(X_trainC, y_trainC)\n",
    "model_lsvrD.fit(X_trainD, y_trainD)\n",
    "model_lsvrE.fit(X_trainE, y_trainE)"
   ]
  },
  {
   "cell_type": "code",
   "execution_count": 30,
   "metadata": {
    "collapsed": true
   },
   "outputs": [],
   "source": [
    "pred_lsvrA = model_lsvrA.predict(X_testA)\n",
    "pred_lsvrB = model_lsvrB.predict(X_testB)\n",
    "pred_lsvrC = model_lsvrC.predict(X_testC)\n",
    "pred_lsvrD = model_lsvrD.predict(X_testD)\n",
    "pred_lsvrE = model_lsvrE.predict(X_testE)"
   ]
  },
  {
   "cell_type": "code",
   "execution_count": 31,
   "metadata": {},
   "outputs": [
    {
     "name": "stdout",
     "output_type": "stream",
     "text": [
      "MSE Fold A:  0.404262724768\n",
      "MSE Fold B:  2.02700032197\n",
      "MSE Fold C:  0.59375153739\n",
      "MSE Fold D:  1.39307865735\n",
      "MSE Fold E:  0.455870782007\n"
     ]
    }
   ],
   "source": [
    "print('MSE Fold A: ',metrics.mean_squared_error(y_testA, pred_lsvrA))\n",
    "print('MSE Fold B: ',metrics.mean_squared_error(y_testB, pred_lsvrB))\n",
    "print('MSE Fold C: ',metrics.mean_squared_error(y_testC, pred_lsvrC))\n",
    "print('MSE Fold D: ',metrics.mean_squared_error(y_testD, pred_lsvrD))\n",
    "print('MSE Fold E: ',metrics.mean_squared_error(y_testE, pred_lsvrE))"
   ]
  },
  {
   "cell_type": "markdown",
   "metadata": {},
   "source": [
    "- SVR"
   ]
  },
  {
   "cell_type": "code",
   "execution_count": 32,
   "metadata": {
    "collapsed": true
   },
   "outputs": [],
   "source": [
    "model_svrA = svm.SVR()\n",
    "model_svrB = svm.SVR()\n",
    "model_svrC = svm.SVR()\n",
    "model_svrD = svm.SVR()\n",
    "model_svrE = svm.SVR()"
   ]
  },
  {
   "cell_type": "code",
   "execution_count": 33,
   "metadata": {},
   "outputs": [
    {
     "data": {
      "text/plain": [
       "SVR(C=1.0, cache_size=200, coef0=0.0, degree=3, epsilon=0.1, gamma='auto',\n",
       "  kernel='rbf', max_iter=-1, shrinking=True, tol=0.001, verbose=False)"
      ]
     },
     "execution_count": 33,
     "metadata": {},
     "output_type": "execute_result"
    }
   ],
   "source": [
    "model_svrA.fit(X_trainA, y_trainA)\n",
    "model_svrB.fit(X_trainB, y_trainB)\n",
    "model_svrC.fit(X_trainC, y_trainC)\n",
    "model_svrD.fit(X_trainD, y_trainD)\n",
    "model_svrE.fit(X_trainE, y_trainE)"
   ]
  },
  {
   "cell_type": "code",
   "execution_count": 34,
   "metadata": {
    "collapsed": true
   },
   "outputs": [],
   "source": [
    "pred_svrA = model_svrA.predict(X_testA)\n",
    "pred_svrB = model_svrB.predict(X_testB)\n",
    "pred_svrC = model_svrC.predict(X_testC)\n",
    "pred_svrD = model_svrD.predict(X_testD)\n",
    "pred_svrE = model_svrE.predict(X_testE)"
   ]
  },
  {
   "cell_type": "code",
   "execution_count": 35,
   "metadata": {},
   "outputs": [
    {
     "name": "stdout",
     "output_type": "stream",
     "text": [
      "MSE Fold A:  0.411444919675\n",
      "MSE Fold B:  0.482704911801\n",
      "MSE Fold C:  0.551096230196\n",
      "MSE Fold D:  0.489258804987\n",
      "MSE Fold E:  0.48259536932\n"
     ]
    }
   ],
   "source": [
    "print('MSE Fold A: ',metrics.mean_squared_error(y_testA, pred_svrA))\n",
    "print('MSE Fold B: ',metrics.mean_squared_error(y_testB, pred_svrB))\n",
    "print('MSE Fold C: ',metrics.mean_squared_error(y_testC, pred_svrC))\n",
    "print('MSE Fold D: ',metrics.mean_squared_error(y_testD, pred_svrD))\n",
    "print('MSE Fold E: ',metrics.mean_squared_error(y_testE, pred_svrE))"
   ]
  },
  {
   "cell_type": "markdown",
   "metadata": {},
   "source": [
    "- Random Forest Regressor"
   ]
  },
  {
   "cell_type": "code",
   "execution_count": 36,
   "metadata": {
    "collapsed": true
   },
   "outputs": [],
   "source": [
    "model_rfrA = ensemble.RandomForestRegressor()\n",
    "model_rfrB = ensemble.RandomForestRegressor()\n",
    "model_rfrC = ensemble.RandomForestRegressor()\n",
    "model_rfrD = ensemble.RandomForestRegressor()\n",
    "model_rfrE = ensemble.RandomForestRegressor()"
   ]
  },
  {
   "cell_type": "code",
   "execution_count": 37,
   "metadata": {},
   "outputs": [
    {
     "data": {
      "text/plain": [
       "RandomForestRegressor(bootstrap=True, criterion='mse', max_depth=None,\n",
       "           max_features='auto', max_leaf_nodes=None,\n",
       "           min_impurity_split=1e-07, min_samples_leaf=1,\n",
       "           min_samples_split=2, min_weight_fraction_leaf=0.0,\n",
       "           n_estimators=10, n_jobs=1, oob_score=False, random_state=None,\n",
       "           verbose=0, warm_start=False)"
      ]
     },
     "execution_count": 37,
     "metadata": {},
     "output_type": "execute_result"
    }
   ],
   "source": [
    "model_rfrA.fit(X_trainA, y_trainA)\n",
    "model_rfrB.fit(X_trainB, y_trainB)\n",
    "model_rfrC.fit(X_trainC, y_trainC)\n",
    "model_rfrD.fit(X_trainD, y_trainD)\n",
    "model_rfrE.fit(X_trainE, y_trainE)"
   ]
  },
  {
   "cell_type": "code",
   "execution_count": 38,
   "metadata": {
    "collapsed": true
   },
   "outputs": [],
   "source": [
    "pred_rfrA = model_rfrA.predict(X_testA)\n",
    "pred_rfrB = model_rfrB.predict(X_testB)\n",
    "pred_rfrC = model_rfrC.predict(X_testC)\n",
    "pred_rfrD = model_rfrD.predict(X_testD)\n",
    "pred_rfrE = model_rfrE.predict(X_testE)"
   ]
  },
  {
   "cell_type": "code",
   "execution_count": 39,
   "metadata": {},
   "outputs": [
    {
     "name": "stdout",
     "output_type": "stream",
     "text": [
      "MSE Fold A:  0.324482758621\n",
      "MSE Fold B:  0.425893416928\n",
      "MSE Fold C:  0.385799373041\n",
      "MSE Fold D:  0.349937304075\n",
      "MSE Fold E:  0.34\n"
     ]
    }
   ],
   "source": [
    "print('MSE Fold A: ',metrics.mean_squared_error(y_testA, pred_rfrA))\n",
    "print('MSE Fold B: ',metrics.mean_squared_error(y_testB, pred_rfrB))\n",
    "print('MSE Fold C: ',metrics.mean_squared_error(y_testC, pred_rfrC))\n",
    "print('MSE Fold D: ',metrics.mean_squared_error(y_testD, pred_rfrD))\n",
    "print('MSE Fold E: ',metrics.mean_squared_error(y_testE, pred_rfrE))"
   ]
  },
  {
   "cell_type": "markdown",
   "metadata": {},
   "source": [
    "- Gradient Boosting Regressor"
   ]
  },
  {
   "cell_type": "code",
   "execution_count": 40,
   "metadata": {
    "collapsed": true
   },
   "outputs": [],
   "source": [
    "model_gbrA = ensemble.GradientBoostingRegressor()\n",
    "model_gbrB = ensemble.GradientBoostingRegressor()\n",
    "model_gbrC = ensemble.GradientBoostingRegressor()\n",
    "model_gbrD = ensemble.GradientBoostingRegressor()\n",
    "model_gbrE = ensemble.GradientBoostingRegressor()"
   ]
  },
  {
   "cell_type": "code",
   "execution_count": 41,
   "metadata": {},
   "outputs": [
    {
     "data": {
      "text/plain": [
       "GradientBoostingRegressor(alpha=0.9, criterion='friedman_mse', init=None,\n",
       "             learning_rate=0.1, loss='ls', max_depth=3, max_features=None,\n",
       "             max_leaf_nodes=None, min_impurity_split=1e-07,\n",
       "             min_samples_leaf=1, min_samples_split=2,\n",
       "             min_weight_fraction_leaf=0.0, n_estimators=100,\n",
       "             presort='auto', random_state=None, subsample=1.0, verbose=0,\n",
       "             warm_start=False)"
      ]
     },
     "execution_count": 41,
     "metadata": {},
     "output_type": "execute_result"
    }
   ],
   "source": [
    "model_gbrA.fit(X_trainA, y_trainA)\n",
    "model_gbrB.fit(X_trainB, y_trainB)\n",
    "model_gbrC.fit(X_trainC, y_trainC)\n",
    "model_gbrD.fit(X_trainD, y_trainD)\n",
    "model_gbrE.fit(X_trainE, y_trainE)"
   ]
  },
  {
   "cell_type": "code",
   "execution_count": 42,
   "metadata": {
    "collapsed": true
   },
   "outputs": [],
   "source": [
    "pred_gbrA = model_gbrA.predict(X_testA)\n",
    "pred_gbrB = model_gbrB.predict(X_testB)\n",
    "pred_gbrC = model_gbrC.predict(X_testC)\n",
    "pred_gbrD = model_gbrD.predict(X_testD)\n",
    "pred_gbrE = model_gbrE.predict(X_testE)"
   ]
  },
  {
   "cell_type": "code",
   "execution_count": 43,
   "metadata": {},
   "outputs": [
    {
     "name": "stdout",
     "output_type": "stream",
     "text": [
      "MSE Fold A:  0.373157724539\n",
      "MSE Fold B:  0.417852031847\n",
      "MSE Fold C:  0.405821335711\n",
      "MSE Fold D:  0.365755363857\n",
      "MSE Fold E:  0.357783507217\n"
     ]
    }
   ],
   "source": [
    "print('MSE Fold A: ',metrics.mean_squared_error(y_testA, pred_gbrA))\n",
    "print('MSE Fold B: ',metrics.mean_squared_error(y_testB, pred_gbrB))\n",
    "print('MSE Fold C: ',metrics.mean_squared_error(y_testC, pred_gbrC))\n",
    "print('MSE Fold D: ',metrics.mean_squared_error(y_testD, pred_gbrD))\n",
    "print('MSE Fold E: ',metrics.mean_squared_error(y_testE, pred_gbrE))"
   ]
  },
  {
   "cell_type": "markdown",
   "metadata": {},
   "source": [
    "### Modelo Final com Melhor Algoritmo\n",
    "**Random Forest Regressor**"
   ]
  },
  {
   "cell_type": "code",
   "execution_count": 44,
   "metadata": {
    "collapsed": true
   },
   "outputs": [],
   "source": [
    "model_final = ensemble.RandomForestRegressor()"
   ]
  },
  {
   "cell_type": "code",
   "execution_count": 45,
   "metadata": {},
   "outputs": [
    {
     "data": {
      "text/plain": [
       "RandomForestRegressor(bootstrap=True, criterion='mse', max_depth=None,\n",
       "           max_features='auto', max_leaf_nodes=None,\n",
       "           min_impurity_split=1e-07, min_samples_leaf=1,\n",
       "           min_samples_split=2, min_weight_fraction_leaf=0.0,\n",
       "           n_estimators=10, n_jobs=1, oob_score=False, random_state=None,\n",
       "           verbose=0, warm_start=False)"
      ]
     },
     "execution_count": 45,
     "metadata": {},
     "output_type": "execute_result"
    }
   ],
   "source": [
    "model_final.fit(X, y)"
   ]
  },
  {
   "cell_type": "markdown",
   "metadata": {},
   "source": [
    "### Diferença entre Stochastic Gradient Descent e Gradient Descent"
   ]
  },
  {
   "cell_type": "markdown",
   "metadata": {},
   "source": [
    "O Gradient Descent considera todo o conjunto de treino antes de realizar uma etapa de atualização dos parâmetros do modelo, enquanto que o Stochastic Gradient Descent considera apenas um ponto do dado para cada etapa de atualização dos parâmetros do modelo, passando pelo conjunto de treino."
   ]
  },
  {
   "cell_type": "code",
   "execution_count": null,
   "metadata": {
    "collapsed": true
   },
   "outputs": [],
   "source": []
  },
  {
   "cell_type": "code",
   "execution_count": 46,
   "metadata": {},
   "outputs": [
    {
     "data": {
      "text/plain": [
       "([[4, 8, 6, 3, 0, 5], [7, 2, 1, 3, 0, 5], [7, 2, 1, 4, 8, 6]],\n",
       " [[7, 2, 1], [4, 8, 6], [3, 0, 5]])"
      ]
     },
     "execution_count": 46,
     "metadata": {},
     "output_type": "execute_result"
    }
   ],
   "source": [
    "resample.split_k_fold(9,3)"
   ]
  },
  {
   "cell_type": "code",
   "execution_count": null,
   "metadata": {
    "collapsed": true
   },
   "outputs": [],
   "source": []
  }
 ],
 "metadata": {
  "kernelspec": {
   "display_name": "Python 3",
   "language": "python",
   "name": "python3"
  },
  "language_info": {
   "codemirror_mode": {
    "name": "ipython",
    "version": 3
   },
   "file_extension": ".py",
   "mimetype": "text/x-python",
   "name": "python",
   "nbconvert_exporter": "python",
   "pygments_lexer": "ipython3",
   "version": "3.6.1"
  }
 },
 "nbformat": 4,
 "nbformat_minor": 2
}
